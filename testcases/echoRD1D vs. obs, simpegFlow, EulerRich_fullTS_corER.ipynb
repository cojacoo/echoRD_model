{
 "metadata": {
  "name": ""
 },
 "nbformat": 3,
 "nbformat_minor": 0,
 "worksheets": [
  {
   "cells": [
    {
     "cell_type": "markdown",
     "metadata": {},
     "source": [
      "# This is the 1D diffusive testcase against observed soil moisture dynamics and two Richards solvers of the particle model random walk engine\n",
      "\n",
      "This model builds on the echoRD routines - with strong 1D simplification.\n",
      "\n",
      "Make sure to have Numpy, Pandas, Scipy and SimPEG installed."
     ]
    },
    {
     "cell_type": "code",
     "collapsed": false,
     "input": [
      "import numpy as np\n",
      "import pandas as pd"
     ],
     "language": "python",
     "metadata": {},
     "outputs": [],
     "prompt_number": 2
    },
    {
     "cell_type": "heading",
     "level": 3,
     "metadata": {},
     "source": [
      "Observed soil moisture dynamics"
     ]
    },
    {
     "cell_type": "code",
     "collapsed": false,
     "input": [
      "obs=pd.read_csv('soil_moisture_weiherbach.csv')\n",
      "obs.index=pd.to_datetime(obs['DATE'] + ' ' + obs['TIME'],format='%d/%m/%y %H:%M')\n",
      "obs = obs.drop(['DATE','TIME'], 1)"
     ],
     "language": "python",
     "metadata": {},
     "outputs": [],
     "prompt_number": 3
    },
    {
     "cell_type": "code",
     "collapsed": false,
     "input": [
      "#define plot function for soil moisture data\n",
      "def hydroplot(obs,mlab,mlabcols,fsize=(6, 6),saving=False,upbound=40,lowbound=10,catch='Catchment',precscale=100.,cumprec=False,align=False,tspacehr=6,ccontrast=False,descriptor='Sensor\\nLocation'):\n",
      "    '''\n",
      "    This is a rather simple function to plot hydrological data (soil moisture and precipitation) of a pandas data frame.\n",
      "    It is based on some excellent examples by Randy Olson and may need heavy adaption to your data.\n",
      "    (CC BY-NC-SA 4.0) jackisch@kit.edu\n",
      "    \n",
      "    fsize: Provide figure size as tuple.\n",
      "    saving: Provide a file name if you want it saving.\n",
      "    XXbound: Give bounds of left axis.\n",
      "    catch: Provide catchment name.\n",
      "    precscale: Scaling if your prec data is not in mm.\n",
      "    cumprec: True: cumulative precipitation is plotted.\n",
      "    \n",
      "    The functions assumes a pandas data frame with a time stamp as row names.\n",
      "    You may prepare this as:\n",
      "    obs=pd.read_csv('soil_moisture_file.csv')\n",
      "    obs.index=pd.to_datetime(obs['DATE'] + ' ' + obs['TIME'],format='%d/%m/%y %H:%M')\n",
      "    obs = obs.drop(['DATE','TIME'], 1)\n",
      "    Moreover, precipitation should reside in column 'Prec'\n",
      "    '''\n",
      "    \n",
      "    # These are the \"Tableau 20\" colors as RGB.  \n",
      "    tableau20 = [(31, 119, 180), (174, 199, 232), (255, 127, 14), (255, 187, 120),  \n",
      "             (44, 160, 44), (152, 223, 138), (214, 39, 40), (255, 152, 150),  \n",
      "             (148, 103, 189), (197, 176, 213), (140, 86, 75), (196, 156, 148),  \n",
      "             (227, 119, 194), (247, 182, 210), (127, 127, 127), (199, 199, 199),  \n",
      "             (188, 189, 34), (219, 219, 141), (23, 190, 207), (158, 218, 229)]  \n",
      "    # Scale the RGB values to the [0, 1] range, which is the format matplotlib accepts.  \n",
      "    for i in range(len(tableau20)):  \n",
      "        r, g, b = tableau20[i]  \n",
      "        tableau20[i] = (r / 255., g / 255., b / 255.)  \n",
      "        \n",
      "    \n",
      "    figure(figsize=fsize)  \n",
      "      \n",
      "    # Remove the plot frame lines. They are unnecessary chartjunk.  \n",
      "    ax = subplot(111)  \n",
      "    ax.spines[\"top\"].set_visible(False)  \n",
      "    ax.spines[\"bottom\"].set_visible(False)  \n",
      "    ax.spines[\"right\"].set_visible(False)  \n",
      "    ax.spines[\"left\"].set_visible(False)  \n",
      "      \n",
      "    # Ensure that the axis ticks only show up on the bottom and left of the plot.  \n",
      "    # Ticks on the right and top of the plot are generally unnecessary chartjunk.  \n",
      "    ax.get_xaxis().tick_bottom()  \n",
      "    ax.get_yaxis().tick_left()  \n",
      "      \n",
      "    # Limit the range of the plot to only where the data is.  \n",
      "    # Avoid unnecessary whitespace.  \n",
      "    ylim(lowbound, upbound)  \n",
      "    \n",
      "          \n",
      "    # Make sure your axis ticks are large enough to be easily read.  \n",
      "    # You don't want your viewers squinting to read your plot.  \n",
      "    yticks(range(lowbound, upbound, 10), [str(x) + \"%\" for x in range(lowbound, upbound, 10)], fontsize=14)  \n",
      "    xticks(fontsize=14)  \n",
      "    \n",
      "    ax.xaxis.set_minor_locator(matplotlib.dates.HourLocator(interval=tspacehr))\n",
      "    ax.xaxis.set_minor_formatter(matplotlib.dates.DateFormatter('\\n%H'))\n",
      "    ax.xaxis.grid(False, which=\"minor\")\n",
      "    ax.xaxis.grid(True, which=\"major\")\n",
      "    ax.xaxis.set_major_locator(matplotlib.dates.DayLocator())\n",
      "    ax.xaxis.set_major_formatter(matplotlib.dates.DateFormatter('\\n\\n%d.%m.%y'))\n",
      "    \n",
      "    # Now that the plot is prepared, it's time to actually plot the data!  \n",
      "    # Note that I plotted the majors in order of the highest % in the final year.  \n",
      "    majors = mlab  \n",
      "    colnames=mlabcols\n",
      "    \n",
      "    #get positions\n",
      "    yposlab=obs[colnames].values[-1,:]\n",
      "    yposlab=np.round(yposlab)\n",
      "    if align:\n",
      "        while any(np.diff(yposlab)==0.):\n",
      "            overlap=np.diff(yposlab)\n",
      "            overlapavoid=0.*overlap\n",
      "            overlapavoid[overlap==0.]=1.\n",
      "            overlap[np.where(overlap==0.)[0]+1][overlap[np.where(overlap==0.)[0]+1]==1.]=overlapavoid[np.where(    overlap==0.)[0]+1]+1.\n",
      "            yposlab[1:]=yposlab[1:]+overlapavoid\n",
      "    else:\n",
      "        if any(np.diff(yposlab)<2.):\n",
      "            yposlab=upbound-(np.arange(len(yposlab))*2.+15.)\n",
      "    \n",
      "    for rank, column in enumerate(majors):  \n",
      "        # Plot each line separately with its own color, using the Tableau 20  \n",
      "        # color set in order.\n",
      "        if ccontrast:\n",
      "            plot(obs.index, obs[colnames[rank]].values, lw=2.5, color=tableau20[rank*2+2])  \n",
      "        else:\n",
      "            plot(obs.index, obs[colnames[rank]].values, lw=2.5, color=tableau20[rank+2])  \n",
      "    \n",
      "        # Add a text label to the right end of every line. Most of the code below  \n",
      "        # is adding specific offsets y position because some labels overlapped.  \n",
      "        if ccontrast:\n",
      "            text(obs.index[-1]+ datetime.timedelta(hours=0.1), yposlab[rank], column, fontsize=14, color=tableau20[rank*2+2])\n",
      "        else:\n",
      "            text(obs.index[-1]+ datetime.timedelta(hours=0.1), yposlab[rank], column, fontsize=14, color=tableau20[rank+2])\n",
      "        \n",
      "    for y in range(10, upbound, 10):  \n",
      "        axhline(y, lw=0.5, color=\"black\", alpha=0.3)\n",
      "    \n",
      "    text(obs.index[len(obs)/2], upbound+2, ''.join([\"Soil Moisture and Precipitation at \",catch]) , fontsize=17, ha=\"center\") \n",
      "    text(obs.index[0]- datetime.timedelta(hours=0.1),32,'< Soil Moisture\\n',rotation='vertical',horizontalalignment='right',verticalalignment='bottom',fontsize=12,alpha=0.7)\n",
      "    text(obs.index[0]- datetime.timedelta(hours=0.1),32,'> Precipitation',rotation='vertical',horizontalalignment='right',verticalalignment='bottom',fontsize=12,color=tableau20[0],alpha=0.7)\n",
      "    text(obs.index[-1]+ datetime.timedelta(hours=0.1),10,descriptor,rotation='vertical',verticalalignment='bottom',fontsize=12,alpha=0.7)\n",
      "    text(obs.index[-1]+ datetime.timedelta(hours=0.1),7.55,'Hr',verticalalignment='bottom',fontsize=12,    alpha=0.7)\n",
      "    text(obs.index[-1]+ datetime.timedelta(hours=0.1),5.6,'Date',verticalalignment='bottom',fontsize=14,    alpha=0.7)\n",
      "        \n",
      "    ax2 = ax.twinx()\n",
      "    if cumprec:\n",
      "        obs['Preccum']=np.cumsum(obs['Prec'].values)\n",
      "        obs=obs.rename(columns={'Prec': 'Prec_m','Preccum': 'Prec'})\n",
      "\n",
      "    precstp=np.around(obs['Prec'].max()/4.,decimals=-int(np.floor(np.log10(obs['Prec'].max()/4.))))\n",
      "    ax2.set_ylim((-obs['Prec'].max()*3.,1))\n",
      "    ax2.set_yticks(-np.arange(0,obs['Prec'].max(), precstp)[::-1])\n",
      "    ax2.set_yticklabels([str(x) + \"mm\" for x in np.arange(0.,obs['Prec'].max(), precstp)/precscale][::-1],    fontsize=14,color=tableau20[0])\n",
      "    ax2.plot(obs.index, -obs['Prec'], color=tableau20[0])\n",
      "    ax2.fill_between(obs.index, -obs['Prec'], 0., color=tableau20[1])\n",
      "    ax2.yaxis.grid(True)\n",
      "    \n",
      "    if saving!=False:\n",
      "        savefig(saving, bbox_inches=\"tight\")"
     ],
     "language": "python",
     "metadata": {},
     "outputs": [],
     "prompt_number": 4
    },
    {
     "cell_type": "code",
     "collapsed": false,
     "input": [
      "mlab=['0.03 m','0.1 m','0.2 m','0.3 m','0.4 m']\n",
      "mlabcols=['BF_3','BF_10','BF_20','BF_30','BF_40']\n",
      "#hydroplot(obs,mlab,mlabcols,(10,6),'weiher_moist.pdf',catch='Weiherbach')\n",
      "hydroplot(obs,mlab,mlabcols,(10,6),catch='Weiherbach',align=True)"
     ],
     "language": "python",
     "metadata": {},
     "outputs": [
      {
       "metadata": {},
       "output_type": "display_data",
       "png": "[encoded data removed]",
       "text": [
        "<matplotlib.figure.Figure at 0x109a19f10>"
       ]
      }
     ],
     "prompt_number": 5
    },
    {
     "cell_type": "code",
     "collapsed": false,
     "input": [
      "reftime=pd.to_datetime('21:35 27/06/94')\n",
      "idx=np.argmin([np.abs(obs.index[x]-reftime) for x in range(len(obs))])\n",
      "#obs.iloc[idx:idx+20]"
     ],
     "language": "python",
     "metadata": {},
     "outputs": [],
     "prompt_number": 6
    },
    {
     "cell_type": "heading",
     "level": 3,
     "metadata": {},
     "source": [
      "Prepare 1D models"
     ]
    },
    {
     "cell_type": "code",
     "collapsed": false,
     "input": [
      "import scipy as sp\n",
      "import matplotlib.pyplot as plt\n",
      "import os, sys"
     ],
     "language": "python",
     "metadata": {},
     "outputs": [],
     "prompt_number": 7
    },
    {
     "cell_type": "code",
     "collapsed": false,
     "input": [
      "#connect SimPEG Flow\n",
      "pathdir='../'\n",
      "lib_path = os.path.abspath(pathdir)\n",
      "sys.path.append(lib_path)\n",
      "pathdir='../../../../code/simpegflow/'\n",
      "lib_path = os.path.abspath(pathdir)\n",
      "sys.path.append(lib_path)\n",
      "\n",
      "import vG_conv as vG\n",
      "from SimPEG import *\n",
      "from simpegFLOW import Richards\n"
     ],
     "language": "python",
     "metadata": {},
     "outputs": [
      {
       "output_type": "stream",
       "stream": "stdout",
       "text": [
        "Warning: upgrade your scipy to 0.13.0\n"
       ]
      }
     ],
     "prompt_number": 8
    },
    {
     "cell_type": "heading",
     "level": 4,
     "metadata": {},
     "source": [
      "Load echoRD setup"
     ]
    },
    {
     "cell_type": "code",
     "collapsed": false,
     "input": [
      "#connect to echoRD\n",
      "import run_echoRD as rE\n",
      "#connect and load project\n",
      "[dr,mc,mcp,pdyn,cinf,vG]=rE.loadconnect(pathdir='../',mcinif='mcini_specht4y',oldvers=True)\n",
      "mc.advectref='obs'\n",
      "[mc,particles,npart,precTS]=rE.pickup_echoRD(mc, mcp, dr, 'specht4y.pickle')"
     ],
     "language": "python",
     "metadata": {},
     "outputs": [
      {
       "output_type": "stream",
       "stream": "stdout",
       "text": [
        "updated mc from specht4y.pickle\n"
       ]
      }
     ],
     "prompt_number": 9
    },
    {
     "cell_type": "heading",
     "level": 4,
     "metadata": {},
     "source": [
      "Prepare SimPEG Flow Solver"
     ]
    },
    {
     "cell_type": "code",
     "collapsed": false,
     "input": [
      "#define grid resolution\n",
      "grid_res=-mc.mgrid.vertfac.values #[m]\n",
      "#setup mesh\n",
      "cells=mc.mgrid.vertgrid.values\n",
      "M = Mesh.TensorMesh([np.ones(cells)*grid_res])\n",
      "M.setCellGradBC([['neumann','dirichlet']])"
     ],
     "language": "python",
     "metadata": {},
     "outputs": [
      {
       "metadata": {},
       "output_type": "pyout",
       "prompt_number": 10,
       "text": [
        "[['neumann', 'dirichlet']]"
       ]
      }
     ],
     "prompt_number": 10
    },
    {
     "cell_type": "code",
     "collapsed": false,
     "input": [
      "#assign soil parameters\n",
      "params = {}\n",
      "#access soil parameters from simpegFlow for initialisation\n",
      "vgParams = Richards.Empirical.VanGenuchtenParams()\n",
      "for param in vgParams.clayLoam:\n",
      "    params[param] =  vgParams.clayLoam[param]*np.ones(cells)\n",
      "\n",
      "params['Ks'] = np.log(params['Ks']) #correct the given Ks values"
     ],
     "language": "python",
     "metadata": {},
     "outputs": [],
     "prompt_number": 11
    },
    {
     "cell_type": "code",
     "collapsed": false,
     "input": [
      "#update params with our soil (homogeneous for now)\n",
      "params['Ks'] = np.log(mc.soilmatrix.ks)[4].repeat(len(params['Ks']))\n",
      "params['alpha'] = mc.soilmatrix.alpha[4].repeat(len(params['alpha']))\n",
      "params['n'] = mc.soilmatrix.n[4].repeat(len(params['n']))\n",
      "params['theta_r'] = mc.soilmatrix.tr[4].repeat(len(params['theta_r']))\n",
      "params['theta_s'] = mc.soilmatrix.ts[4].repeat(len(params['theta_s']))"
     ],
     "language": "python",
     "metadata": {},
     "outputs": [],
     "prompt_number": 12
    },
    {
     "cell_type": "code",
     "collapsed": false,
     "input": [
      "#pre-event moisture\n",
      "#reftime=pd.to_datetime('23:55 27/06/94')\n",
      "idx=np.argmin([np.abs(obs.index[x]-reftime) for x in range(len(obs))])\n",
      "obs.iloc[idx]"
     ],
     "language": "python",
     "metadata": {},
     "outputs": [
      {
       "metadata": {},
       "output_type": "pyout",
       "prompt_number": 13,
       "text": [
        "BF_3     24.070000\n",
        "BF_10    18.100000\n",
        "BF_20    18.780001\n",
        "BF_30    22.770000\n",
        "BF_40    27.730000\n",
        "Prec      0.000000\n",
        "Name: 1994-06-27 21:35:00, dtype: float64"
       ]
      }
     ],
     "prompt_number": 13
    },
    {
     "cell_type": "code",
     "collapsed": false,
     "input": [
      "#impose measurement to setup\n",
      "theta=mc.zgrid[:,1]*np.nan\n",
      "probloc=[-0.03,-0.1,-0.2,-0.3,-0.4]\n",
      "for i in range(len(probloc)):\n",
      "    j=np.argmin(np.abs(mc.zgrid[:,1]-probloc[i]))\n",
      "    theta[j]=obs.iloc[idx,i]\n",
      "theta[0]=obs.iloc[idx,0]\n",
      "theta[-1]=obs.iloc[idx,i]\n",
      "theta=pd.DataFrame(theta).interpolate().values[:,0]\n",
      "theta=theta/100."
     ],
     "language": "python",
     "metadata": {},
     "outputs": [],
     "prompt_number": 14
    },
    {
     "cell_type": "code",
     "collapsed": false,
     "input": [
      "#psi profile\n",
      "E = Richards.Empirical.VanGenuchten(M, **params)\n",
      "h=vG.psi_theta(theta, E.theta_s, E.theta_r,E.alpha,E.n)\n",
      "mtrue = (params['Ks'])"
     ],
     "language": "python",
     "metadata": {},
     "outputs": [],
     "prompt_number": 15
    },
    {
     "cell_type": "code",
     "collapsed": false,
     "input": [
      "#build boundary conditions - take over values\n",
      "bcBTx = np.array([h[-1],h[0]])\n",
      "def bc(time,top_psi):\n",
      "    bcBT = bcBTx\n",
      "    return bcBT"
     ],
     "language": "python",
     "metadata": {},
     "outputs": [],
     "prompt_number": 16
    },
    {
     "cell_type": "code",
     "collapsed": false,
     "input": [
      "ths_part=mc.part_sizefac\n",
      "npart=np.floor(mc.part_sizefac*vG.thst_theta(theta,mc.soilmatrix.ts[mc.soilgrid[:,1]-1], mc.soilmatrix.tr[mc.soilgrid[:,1]-1])).values.astype(int)\n",
      "#dgrid=np.append(-np.diff(mc.zgrid[:,1]),-np.diff(mc.zgrid[0:2,1]))\n",
      "#npart=np.floor(dgrid*ths_part*vG.thst_theta(theta,mc.soilmatrix.ts[mc.soilgrid[:,1]-1], mc.soilmatrix.tr[mc.soilgrid[:,1]-1])).values.astype(int)\n",
      "particles=pd.DataFrame(np.zeros(int(np.sum(npart))*9).reshape(int(np.sum(npart)),9),columns=['lat', 'z', 'conc', 'temp', 'age', 'flag', 'fastlane', 'advect','lastZ'])\n",
      "particles['cell']=pd.Series(np.zeros(int(np.sum(npart)),dtype=int), index=particles.index)\n",
      "k=0\n",
      "\n",
      "cells=len(npart)\n",
      "\n",
      "for i in np.arange(len(npart)):\n",
      "    particles.cell[k:(k+npart[i])]=int(i)\n",
      "    particles.lat[k:(k+npart[i])]=(np.random.rand(npart[i]))*mc.mgrid.latfac.values\n",
      "    particles.z[k:(k+npart[i])]=(i+np.random.rand(npart[i]))*mc.mgrid.vertfac.values\n",
      "    k+=npart[i]"
     ],
     "language": "python",
     "metadata": {},
     "outputs": [],
     "prompt_number": 17
    },
    {
     "cell_type": "heading",
     "level": 4,
     "metadata": {},
     "source": [
      "1D versions of the echoRD core"
     ]
    },
    {
     "cell_type": "code",
     "collapsed": false,
     "input": [
      "def gridupdate_thS1D(cellid,mc,pdyn):\n",
      "    '''Calculates thetaS from particle density\n",
      "    '''\n",
      "    cells=np.append(range(mc.mgrid.cells),cellid)\n",
      "    cells[cells<0]=0\n",
      "    cells[cells>len(mc.zgrid[:,1])]=len(mc.zgrid[:,1])\n",
      "    thetaS=np.floor(100.*np.bincount(particles.cell).astype(float)/mc.part_sizefac)\n",
      "    thetaS[thetaS>100.]=100.\n",
      "    return [thetaS.astype(np.int),npart]\n",
      "\n",
      "def part_diffusion_1D(particles,npart,thS,mc,vG,pdyn,dt,uffink_corr=True):\n",
      "    '''Calculate Diffusive Particle Movement\n",
      "       Based on state in grid use diffusivity as foundation of 2D random walk.\n",
      "       Project step and check for boundary conditions and further restrictions.\n",
      "       Update particle positions.\n",
      "    '''\n",
      "    N=len(particles.z) #number of particles\n",
      "\n",
      "    # 1D Random Walk function with additional correction term for\n",
      "    # non-static diffusion after Uffink 1990 p.15 & p.24ff and Kitanidis 1994\n",
      "    xi=np.random.rand(N)*2.-1.\n",
      "\n",
      "    u=mc.ku[thS,mc.soilgrid[:,4]-1]/mc.theta[thS,mc.soilgrid[:,4]-1]\n",
      "    D=mc.D[thS,mc.soilgrid[:,4]-1]*mc.soilmatrix.ts[mc.soilgrid[:,4]-1].values\n",
      " \n",
      "    vert_sproj=(dt*u[particles.cell.values.astype(np.int)] + (xi*((2*D[particles.cell.values.astype(np.int)]*dt)**0.5)))\n",
      "\n",
      "    if (uffink_corr==True):\n",
      "        #It\u00f4 Scheme after Uffink 1990 and Kitanidis 1994 for vertical step\n",
      "        #modified Stratonovich Scheme after Kitanidis 1994 for lateral step\n",
      "        dx=vert_sproj\n",
      "        \n",
      "        # project step and updated state\n",
      "        # new positions\n",
      "        z_proj=particles.z.values-vert_sproj\n",
      "        [lat_proj,z_proj,nodrain]=pdyn.boundcheck(particles.lat,z_proj,mc)\n",
      "        [thSx,npartx]=gridupdate_thS1D(pdyn.cellgrid(particles.lat,z_proj,mc).astype(np.int64),mc,pdyn) \n",
      "        cell_proj=pdyn.cellgrid(particles.lat,z_proj,mc).astype(np.int64)\n",
      "        \n",
      "        u_proj=mc.ku[thSx,mc.soilgrid[:,4]-1]/mc.theta[thSx,mc.soilgrid[:,4]-1]\n",
      "        D_proj=mc.D[thSx,mc.soilgrid[:,4]-1]*mc.soilmatrix.ts[mc.soilgrid[:,4]-1].values\n",
      "    \n",
      "        corrD=np.abs(D_proj[particles.cell.values.astype(np.int)]-D[particles.cell.values.astype(np.int)])/dx\n",
      "        corrD[dx==0.]=0.\n",
      "        D_mean=np.sqrt(D_proj[particles.cell.values.astype(np.int)]*D[particles.cell.values.astype(np.int)])\n",
      "        corru=np.sqrt(u[particles.cell.values.astype(np.int)]*u_proj[particles.cell.values.astype(np.int)])\n",
      "\n",
      "        vert_sproj=((corru-corrD)*dt + (xi*((2*D[particles.cell.values.astype(np.int)]*dt)**0.5)))\n",
      "\n",
      "\n",
      "    # new positions\n",
      "    z_new=particles.z.values-vert_sproj\n",
      "\n",
      "    [particles.lat,particles.z,nodrain]=pdyn.boundcheck(particles.lat,z_proj,mc)\n",
      "    particles['cell']=pdyn.cellgrid(particles.lat,particles.z,mc).astype(np.int64)\n",
      "\n",
      "    # saturation check\n",
      "    [thS,npart]=gridupdate_thS1D(pdyn.cellgrid(particles.lat,z_new,mc).astype(np.int64),mc,pdyn) #DEBUG: externalise smooth parameter\n",
      "\n",
      "    if any(-nodrain):\n",
      "        particles.loc[-nodrain,'flag']=len(mc.maccols)+1\n",
      "\n",
      "    return [particles,thS,npart]\n",
      "\n",
      "def part_advect_1D(particles,dt):\n",
      "    idx=particles['flag']!=0\n",
      "    if any(idx):\n",
      "        particles.z.loc[idx]=particles.z.loc[idx]+particles.advect.loc[idx]*dt\n",
      "        particles.cell.loc[idx]=pdyn.cellgrid(particles.lat.loc[idx],particles.z.loc[idx],mc).astype(np.int64).values\n",
      "    return particles\n",
      "\n",
      "def infilt_1Dobs(ti,precip,mc,pdyn,dt):\n",
      "    T=np.array(9)\n",
      "    # get timestep in prec time series\n",
      "    prec_id=np.argmin([np.abs(precip.index[x]-ti) for x in range(len(precip))])\n",
      "    if precip.iloc[prec_id]>0:\n",
      "        prec_avail=int(np.round(precip.iloc[prec_id]/600.*dt*mc.part_sizefac/(-mc.mgrid.vertfac.values*1000.)))\n",
      "        #avail. water particles\n",
      "        prec_c=np.array([23.])\n",
      "    else:\n",
      "        prec_avail=0\n",
      "        prec_c=np.array([0.,0.])\n",
      "    \n",
      "    if prec_avail>0:\n",
      "        particles_infilt=pd.DataFrame(np.zeros(prec_avail*10).reshape(prec_avail,10),columns=['lat', 'z', 'conc', 'temp', 'age', 'flag', 'fastlane', 'advect','lastZ','cell'])\n",
      "        # place particles at surface and redistribute later according to ponding\n",
      "        particles_infilt.z=-0.00001\n",
      "        particles_infilt.lat=np.random.rand(prec_avail)*mc.mgrid.latfac.values\n",
      "        particles_infilt.conc=prec_c[0]\n",
      "        particles_infilt.temp=T\n",
      "        particles_infilt.age=ti\n",
      "        particles_infilt.flag=1\n",
      "        particles_infilt.fastlane=np.random.randint(len(mc.t_cdf_fast.T), size=prec_avail)\n",
      "        particles_infilt.cell=0\n",
      "        particles_infilt.advect=pdyn.assignadvect(prec_avail,mc,particles_infilt.fastlane.values,False)\n",
      "    else:\n",
      "        particles_infilt=pd.DataFrame([])\n",
      "\n",
      "    return particles_infilt\n"
     ],
     "language": "python",
     "metadata": {},
     "outputs": [],
     "prompt_number": 18
    },
    {
     "cell_type": "code",
     "collapsed": false,
     "input": [
      "def CAOSpy_run1D_adv(particles,npart,thS,leftover,drained,tstart,tstop,precTS,mc,pdyn,cinf):\n",
      "    timenow=tstart\n",
      "    precparts=0\n",
      "    #loop through time\n",
      "    while timenow < tstop:\n",
      "        #define dt as Courant/Neumann criterion\n",
      "        dt_D=(mc.mgrid.vertfac.values[0])**2 / (np.amax(mc.D[np.amax(thS),:]))\n",
      "        dt_ku=-mc.mgrid.vertfac.values[0]/np.amax(mc.ku[np.amax(thS),:])\n",
      "        dt=np.amin([dt_D,dt_ku])\n",
      "        \n",
      "        #INFILT\n",
      "        p_inf=infilt_1Dobs(timenow,precTS,mc,pdyn,dt)\n",
      "        particles=pd.concat([particles,p_inf])\n",
      "        #psi=vG.psi_thst(thS/100.,mc.soilmatrix.alpha[mc.soilgrid[:,1]-1],mc.soilmatrix.n[mc.soilgrid[:,1]-1])\n",
      "        #DIFFUSION\n",
      "        [particles,thS,npart]=part_diffusion_1D(particles,npart,thS,mc,vG,pdyn,dt,uffink_corr=True)\n",
      "        \n",
      "        #ADVECTION\n",
      "        particles=part_advect_1D(particles,dt)\n",
      "        \n",
      "        #drained particles\n",
      "        drained=drained.append(particles[particles.flag==len(mc.maccols)+1])\n",
      "        particles=particles[particles.flag!=len(mc.maccols)+1]\n",
      "        pondparts=(particles.z<0.)\n",
      "        leftover=np.count_nonzero(-pondparts)\n",
      "        [particles.lat,particles.z,nodrain]=pdyn.boundcheck(particles.lat,particles.z,mc)\n",
      "        particles['cell']=pdyn.cellgrid(particles.lat,particles.z,mc).astype(np.int64)\n",
      "        [thS,npart]=gridupdate_thS1D(particles.cell,mc,pdyn)\n",
      "        timenow=timenow+dt\n",
      "        precparts+=len(p_inf)\n",
      "\n",
      "    return(particles,npart,thS,leftover,drained,timenow,precparts)"
     ],
     "language": "python",
     "metadata": {},
     "outputs": [],
     "prompt_number": 19
    },
    {
     "cell_type": "code",
     "collapsed": false,
     "input": [
      "#some plotting functions\n",
      "\n",
      "def oneDplot(particles,obsx,theta_r,theta_re,dt,sigma,runname,ti,i,mc,saving=False,t=1,store=False,fsize=(8, 5),xlimset=[0.15,0.3,2],ad_diff=False,noplot=False):\n",
      "    #plot 1D profile\n",
      "    import matplotlib.gridspec as gridspec\n",
      "    from scipy.ndimage.filters import gaussian_filter1d\n",
      "    [thS,npart]=gridupdate_thS1D(particles.cell,mc,pdyn)\n",
      "    theta_p=vG.theta_thst(thS/100., mc.soilmatrix.ts[mc.soilgrid[:,1]-1], mc.soilmatrix.tr[mc.soilgrid[:,1]-1])\n",
      "    thpx=gaussian_filter1d(theta_p,sigma)\n",
      "    if ad_diff:\n",
      "        [thSdiff,npartdiff]=gridupdate_thS1D(particles.cell[particles.flag==0],mc,pdyn)\n",
      "        theta_pdiff=vG.theta_thst(thSdiff/100., mc.soilmatrix.ts[mc.soilgrid[:,1]-1], mc.soilmatrix.tr[mc.soilgrid[:,1]-1])\n",
      "        thpxdiff=gaussian_filter1d(theta_pdiff,sigma)\n",
      "    n=len(particles)\n",
      "    obs_id=np.argmin([np.abs(obsx.index[x]-ti) for x in range(len(obsx))])\n",
      "    probloc=[-0.03,-0.1,-0.2,-0.3,-0.4]\n",
      "    if -noplot:\n",
      "        fig=plt.figure(figsize=fsize)\n",
      "        gs = gridspec.GridSpec(1, 2, width_ratios=[2,1])\n",
      "        subplot(gs[0])\n",
      "        plot(thpx,mc.zgrid[:,1],label='Particle')\n",
      "        if ad_diff:\n",
      "            plot(thpxdiff,mc.zgrid[:,1],label='Particle_diffusive')\n",
      "        plot(theta_r,mc.zgrid[:,1],label='Rich SimpegFlow')\n",
      "        plot(theta_re,mc.zgrid[:,1],label='Rich Euler')\n",
      "        plot(obsx.iloc[obs_id]/100.,probloc,'.',label='Observation')\n",
      "        legend(loc=4)\n",
      "        #text(0.35, -0.4, ''.join(['t=',str(int(t)),'m']), fontsize=12)\n",
      "        #text(0.3, -0.5, ''.join(['particles: ',str(n)]), fontsize=12)\n",
      "        xlim(xlimset[:2])\n",
      "        xticks(np.arange(xlimset[0],xlimset[1],xlimset[2]))\n",
      "        xlabel('theta [m3/m3]')\n",
      "        ylabel('depth [m]')\n",
      "        #title(''.join(['Model and Obs @ ',str(int(ti)),'s']))\n",
      "        title(''.join(['Model and Observation\\nTime: ',str(int(t)),'min']))\n",
      "        #title(''.join(['echoRD1D @ ',str(int(ti)),'s']))\n",
      "        ax1=subplot(gs[1])\n",
      "        zi=np.arange(-0.0,mc.soildepth-0.01,-0.01)\n",
      "        oldp=np.bincount(np.round(np.append(-particles.z[particles.flag==0].values,-zi)*100.).astype(int))-1\n",
      "        allp=np.bincount(np.round(np.append(-particles.z[particles.flag<2].values,-zi)*100.).astype(int))-1\n",
      "        plot(gaussian_filter1d(oldp,sigma),zi,label='old')\n",
      "        plot(gaussian_filter1d(allp[0:len(oldp)],sigma),zi,label='all')\n",
      "        plot(gaussian_filter1d(allp[0:len(oldp)]-oldp,sigma),zi,label='new')\n",
      "        a=np.ceil(n/1000.)*12.\n",
      "        xlim([0,a])\n",
      "        xticks(np.linspace(0,a,4))\n",
      "        xlabel('particles')\n",
      "        legend(loc=4)\n",
      "        #title(''.join(['Max Peclet=',str(np.round(Pe,2))]))\n",
      "        title(''.join(['total:\\n',str(n)]))\n",
      "        ax1.yaxis.tick_right()\n",
      "    \n",
      "        if saving:\n",
      "            plt.savefig(''.join(['./results/',runname,str(i).zfill(3),'.pdf']))\n",
      "        \n",
      "        plt.close(fig)\n",
      "        \n",
      "    if store:\n",
      "        idz=[0,10,20,30,40]\n",
      "        if ad_diff:\n",
      "            return [obsx.values[obs_id]/100., thpx[idz],theta_re.values[idz],theta_r[idz],thpxdiff[idz]]\n",
      "        else:\n",
      "            return [obsx.values[obs_id]/100., thpx[idz],theta_re.values[idz],theta_r[idz]]\n",
      "    \n",
      "        \n",
      "def oneDplot2(particles,obsx,theta_r,theta_re,dt,sigma,runname,ti,i,mc,saving=False,t=1,store=False,fsize=(8, 5),xlimset=[0.15,0.3,2],ad_diff=False):\n",
      "    #plot 1D profile\n",
      "    import matplotlib.gridspec as gridspec\n",
      "    from scipy.ndimage.filters import gaussian_filter1d\n",
      "    [thS,npart]=gridupdate_thS1D(particles.cell,mc,pdyn)\n",
      "    theta_p=vG.theta_thst(thS/100., mc.soilmatrix.ts[mc.soilgrid[:,1]-1], mc.soilmatrix.tr[mc.soilgrid[:,1]-1])\n",
      "    thpx=gaussian_filter1d(theta_p,sigma)\n",
      "    if ad_diff:\n",
      "        [thSdiff,npartdiff]=gridupdate_thS1D(particles.cell[particles.flag==0],mc,pdyn)\n",
      "        theta_pdiff=vG.theta_thst(thSdiff/100., mc.soilmatrix.ts[mc.soilgrid[:,1]-1], mc.soilmatrix.tr[mc.soilgrid[:,1]-1])\n",
      "        thpxdiff=gaussian_filter1d(theta_pdiff,sigma)\n",
      "    n=len(particles)\n",
      "    obs_id=np.argmin([np.abs(obsx.index[x]-ti) for x in range(len(obsx))])\n",
      "    probloc=[-0.03,-0.1,-0.2,-0.3,-0.4]\n",
      "    \n",
      "    fig=plt.figure(figsize=fsize)\n",
      "    gs = gridspec.GridSpec(1, 4, width_ratios=[2,1,0.6,0.6])\n",
      "    subplot(gs[0])\n",
      "    plot(thpx,mc.zgrid[:,1],label='Particle')\n",
      "    if ad_diff:\n",
      "        plot(thpxdiff,mc.zgrid[:,1],label='Particle_diffusive')\n",
      "    plot(theta_r,mc.zgrid[:,1],label='Rich SimpegFlow')\n",
      "    plot(theta_re,mc.zgrid[:,1],label='Rich Euler')\n",
      "    plot(obsx.iloc[obs_id]/100.,probloc,'.',label='Observation')\n",
      "    legend(loc=4)\n",
      "    #text(0.35, -0.4, ''.join(['t=',str(int(t)),'m']), fontsize=12)\n",
      "    #text(0.3, -0.5, ''.join(['particles: ',str(n)]), fontsize=12)\n",
      "    xlim(xlimset[:2])\n",
      "    xticks(np.arange(xlimset[0],xlimset[1],xlimset[2]))\n",
      "    xlabel('theta [m3/m3]')\n",
      "    ylabel('depth [m]')\n",
      "    #title(''.join(['Model and Obs @ ',str(int(ti)),'s']))\n",
      "    title(''.join(['Model and Observation\\nTime: ',str(int(t)),'min']))\n",
      "    #title(''.join(['echoRD1D @ ',str(int(ti)),'s']))\n",
      "    ax1=subplot(gs[1])\n",
      "    zi=np.arange(-0.0,mc.soildepth-0.01,-0.01)\n",
      "    oldp=np.bincount(np.round(np.append(-particles.z[particles.flag==0].values,-zi)*100.).astype(int))-1\n",
      "    allp=np.bincount(np.round(np.append(-particles.z[particles.flag<2].values,-zi)*100.).astype(int))-1\n",
      "    plot(gaussian_filter1d(oldp,sigma),zi,label='old')\n",
      "    plot(gaussian_filter1d(allp[0:len(oldp)],sigma),zi,label='all')\n",
      "    plot(gaussian_filter1d(allp[0:len(oldp)]-oldp,sigma),zi,label='new')\n",
      "    a=np.ceil(n/1000.)*12.\n",
      "    xlim([0,a])\n",
      "    xticks(np.linspace(0,a,4))\n",
      "    xlabel('particles')\n",
      "    legend(loc=4)\n",
      "    #title(''.join(['Max Peclet=',str(np.round(Pe,2))]))\n",
      "    title(''.join(['total:\\n',str(n)]))\n",
      "    ax1.get_yaxis().set_visible(False)    \n",
      "    \n",
      "    ax2=subplot(gs[2])\n",
      "    #a=(np.abs(particles.groupby(['cell'], sort=True).max().lastZ.values-particles.groupby(['cell'], sort=True).min().z.values)/dt)/np.sqrt(mc.D[np.amax(thS),4])\n",
      "    #e=particles.groupby(['cell'], sort=True).mean().lastD.values*mc.mgrid.vertfac.values/mc.D[np.amax(thS),4]\n",
      "    a=(np.abs(mc.mgrid.vertfac.values)*np.abs(particles.groupby(['cell'], sort=True).mean().lastZ.values-particles.groupby(['cell'], sort=True).mean().z.values)/dt)/mc.D[np.amax(thS),4]\n",
      "    e=(np.abs(mc.mgrid.vertfac.values)*np.abs(particles.groupby(['cell'], sort=True).max().lastZ.values-particles.groupby(['cell'], sort=True).min().z.values)/dt)/mc.D[np.amax(thS),4]\n",
      "    plot(a,mc.zgrid[:,1],label='diff')\n",
      "    #plot(e,mc.zgrid[:,1],alpha=0.5, color='b')\n",
      "    #fill_betweenx(mc.zgrid[:,1], a, e,alpha=0.2)\n",
      "    #plot(u,mc.zgrid[:,1],color='adv')\n",
      "    #errorbar(a,mc.zgrid[:,1],xerr=a-e, ecolor='lightblue')\n",
      "    xlim([-0.05,np.ceil(np.amax([np.amax(a),0.05])*100.)/100.])\n",
      "    xticks(np.linspace(0.,np.ceil(np.amax([np.amax(a),0.05])*100.)/100.,2))\n",
      "    ax2.get_yaxis().set_visible(False)\n",
      "    #xscale('log')\n",
      "    xlabel('u(i,z)/D(z)')\n",
      "    title('Peclet\\n(mean)')\n",
      "    \n",
      "    ax3=subplot(gs[3])\n",
      "    plot(e,mc.zgrid[:,1])\n",
      "    xlim([-0.05,np.ceil(np.amax([np.amax(e),0.05])*100.)/100.])\n",
      "    xticks(np.linspace(0.,np.ceil(np.amax([np.amax(e),0.05])*100.)/100.,2))\n",
      "    #xscale('log')\n",
      "    xlabel('u(i,z)/D(z)')\n",
      "    title('Peclet\\n(max)')\n",
      "    ax3.yaxis.tick_right()\n",
      "    \n",
      "    if saving:\n",
      "        plt.savefig(''.join(['./results/',runname,str(i).zfill(3),'.pdf']))\n",
      "        plt.close(fig)\n",
      "    if store:\n",
      "        idz=[0,10,20,30,40]\n",
      "        if ad_diff:\n",
      "            return [obsx.values[obs_id]/100., thpx[idz],theta_re.values[idz],theta_r[idz],thpxdiff[idz]]\n",
      "        else:\n",
      "            return [obsx.values[obs_id]/100., thpx[idz],theta_re.values[idz],theta_r[idz]]\n",
      "        \n",
      "def oneDplotX(particles,obsx,theta_r,theta_re,dt,sigma,runname,ti,i,mc,saving=False,t=1,store=False,fsize=(8, 5),xlimset=[0.15,0.3,2],leg=False,ad_diff=False,relative=False):\n",
      "    #plot 1D profile\n",
      "    import matplotlib.gridspec as gridspec\n",
      "    from scipy.ndimage.filters import gaussian_filter1d\n",
      "    \n",
      "    # These are the \"Tableau 20\" colors as RGB.  \n",
      "    tableau20 = [(31, 119, 180), (174, 199, 232), (255, 127, 14), (255, 187, 120),  \n",
      "             (44, 160, 44), (152, 223, 138), (214, 39, 40), (255, 152, 150),  \n",
      "             (148, 103, 189), (197, 176, 213), (140, 86, 75), (196, 156, 148),  \n",
      "             (227, 119, 194), (247, 182, 210), (127, 127, 127), (199, 199, 199),  \n",
      "             (188, 189, 34), (219, 219, 141), (23, 190, 207), (158, 218, 229)]  \n",
      "    # Scale the RGB values to the [0, 1] range, which is the format matplotlib accepts.  \n",
      "    for k in range(len(tableau20)):  \n",
      "        r, g, b = tableau20[k]  \n",
      "        tableau20[k] = (r / 255., g / 255., b / 255.)  \n",
      "    \n",
      "    [thS,npart]=gridupdate_thS1D(particles.cell,mc,pdyn)\n",
      "    theta_p=vG.theta_thst(thS/100., mc.soilmatrix.ts[mc.soilgrid[:,1]-1], mc.soilmatrix.tr[mc.soilgrid[:,1]-1])\n",
      "    thpx=gaussian_filter1d(theta_p,sigma)\n",
      "    if ad_diff:\n",
      "        [thSdiff,npartdiff]=gridupdate_thS1D(particles.cell[particles.flag==0],mc,pdyn)\n",
      "        theta_pdiff=vG.theta_thst(thSdiff/100., mc.soilmatrix.ts[mc.soilgrid[:,1]-1], mc.soilmatrix.tr[mc.soilgrid[:,1]-1])\n",
      "        thpxdiff=gaussian_filter1d(theta_pdiff,sigma)\n",
      "    n=len(particles)\n",
      "    obs_id=np.argmin([np.abs(obsx.index[x]-ti) for x in range(len(obsx))])\n",
      "    probloc=[-0.03,-0.1,-0.2,-0.3,-0.4]\n",
      "    \n",
      "    fig=plt.figure(figsize=fsize)\n",
      "    gs = gridspec.GridSpec(1, 2, width_ratios=[4,1])\n",
      "    \n",
      "    #marginal Y\n",
      "    ax1=fig.add_subplot(gs[1])\n",
      "    zi=np.arange(-0.0,mc.soildepth-0.01,-0.01)\n",
      "    oldp=np.bincount(np.round(np.append(-particles.z[particles.flag==0].values,-zi)*100.).astype(int))-1\n",
      "    allp=np.bincount(np.round(np.append(-particles.z[particles.flag<2].values,-zi)*100.).astype(int))-1\n",
      "    if relative:\n",
      "        oldp/=np.sum(oldp)\n",
      "        allp/=np.sum(allp)\n",
      "    advect_dummy=gaussian_filter1d(10.*(allp[0:len(oldp)]-oldp),sigma)\n",
      "    old_dummy=gaussian_filter1d(oldp,sigma)\n",
      "    all_dummy=gaussian_filter1d(allp[0:len(oldp)],sigma)\n",
      "    ax1.fill_betweenx(zi,0.,all_dummy, color='b',alpha=0.15)\n",
      "    ax1.fill_betweenx(zi,0.,old_dummy, color='g',alpha=0.15)\n",
      "    ax1.fill_betweenx(zi,0.,advect_dummy, color='r',alpha=0.3)\n",
      "    ax1.plot(advect_dummy,zi,'r-',label='new particles')\n",
      "    ax1.plot(all_dummy,zi,'b-',label='all particles')\n",
      "    ax1.plot(old_dummy,zi,'g-',label='old particles')\n",
      "    \n",
      "    handles1, labels1 = ax1.get_legend_handles_labels() \n",
      "    ax1.set_ylim((-1.,0.))\n",
      "    ax1.set_yticks([])\n",
      "    ax1.set_xticks([])\n",
      "    ax1.spines[\"bottom\"].set_visible(False)  \n",
      "    ax1.spines[\"right\"].set_visible(False)  \n",
      "    ax1.spines[\"top\"].set_visible(False)  \n",
      "    ax1.spines[\"left\"].set_visible(False)\n",
      "    \n",
      "    #main plot\n",
      "    ax1=fig.add_subplot(gs[0])\n",
      "    ax1.plot(thpx,mc.zgrid[:,1],color=tableau20[0],lw=2,label='Particle')\n",
      "    if ad_diff:\n",
      "        ax1.plot(thpxdiff,mc.zgrid[:,1],'--',color=tableau20[1],lw=2,label='Particle_diffusive')\n",
      "    ax1.plot(theta_r,mc.zgrid[:,1],color=tableau20[2],lw=2,label='Rich SimpegFlow')\n",
      "    ax1.plot(theta_re,mc.zgrid[:,1],color=tableau20[4],lw=2,label='Rich Euler')\n",
      "    ax1.plot(obsx.iloc[obs_id]/100.,probloc,'o',color=tableau20[8],label='Observation')\n",
      "    \n",
      "    ax1.set_xlim(xlimset[:2])\n",
      "    ax1.set_xticks(np.arange(xlimset[0],xlimset[1],xlimset[2]))\n",
      "    ax1.set_xticklabels(np.arange(xlimset[0],xlimset[1],xlimset[2]),fontsize=14)\n",
      "    ax1.set_yticklabels([-1.0,'',-0.6,-0.4,-0.2,0.0],fontsize=14)\n",
      "    ax1.text(0.12,-0.75,'depth [m]',rotation='vertical',fontsize=14)\n",
      "    if leg:\n",
      "        ax1.legend(loc=4,frameon=False)\n",
      "    ax1.set_xlabel('theta [m3/m3]',fontsize=14)\n",
      "    ax1.text(0.17,-0.95,''.join([str(int(i)),'min']),fontsize=19)\n",
      "        \n",
      "    if saving:\n",
      "        plt.savefig(''.join(['./results/',runname,str(i).zfill(3),'.pdf']))\n",
      "        plt.close(fig)"
     ],
     "language": "python",
     "metadata": {},
     "outputs": [],
     "prompt_number": 20
    },
    {
     "cell_type": "code",
     "collapsed": false,
     "input": [
      "# a simple progress bar\n",
      "import sys, time\n",
      "try:\n",
      "    from IPython.display import clear_output\n",
      "    have_ipython = True\n",
      "except ImportError:\n",
      "    have_ipython = False\n",
      "\n",
      "class ProgressBar:\n",
      "    def __init__(self, iterations):\n",
      "        self.iterations = iterations\n",
      "        self.prog_bar = '[]'\n",
      "        self.fill_char = '*'\n",
      "        self.width = 40\n",
      "        self.__update_amount(0)\n",
      "        if have_ipython:\n",
      "            self.animate = self.animate_ipython\n",
      "        else:\n",
      "            self.animate = self.animate_noipython\n",
      "\n",
      "    def animate_ipython(self, iter):\n",
      "        print '\\r', self,\n",
      "        sys.stdout.flush()\n",
      "        self.update_iteration(iter + 1)\n",
      "\n",
      "    def update_iteration(self, elapsed_iter):\n",
      "        self.__update_amount((elapsed_iter / float(self.iterations)) * 100.0)\n",
      "        self.prog_bar += '  %d of %s complete' % (elapsed_iter, self.iterations)\n",
      "\n",
      "    def __update_amount(self, new_amount):\n",
      "        percent_done = int(round((new_amount / 100.0) * 100.0))\n",
      "        all_full = self.width - 2\n",
      "        num_hashes = int(round((percent_done / 100.0) * all_full))\n",
      "        self.prog_bar = '[' + self.fill_char * num_hashes + ' ' * (all_full - num_hashes) + ']'\n",
      "        pct_place = (len(self.prog_bar) // 2) - len(str(percent_done))\n",
      "        pct_string = '%d%%' % percent_done\n",
      "        self.prog_bar = self.prog_bar[0:pct_place] + \\\n",
      "            (pct_string + self.prog_bar[pct_place + len(pct_string):])\n",
      "\n",
      "    def __str__(self):\n",
      "        return str(self.prog_bar)"
     ],
     "language": "python",
     "metadata": {},
     "outputs": [],
     "prompt_number": 21
    },
    {
     "cell_type": "heading",
     "level": 4,
     "metadata": {},
     "source": [
      "Simple Euler Richards solver"
     ]
    },
    {
     "cell_type": "code",
     "collapsed": false,
     "input": [
      "#euler richards solver\n",
      "def darcy(psi,z,k):\n",
      "    phi=psi+z\n",
      "    dz=np.diff(z)\n",
      "    Q=np.sqrt(k[:-1]*k[1:])*np.diff(phi)/dz\n",
      "    return Q\n",
      "\n",
      "def euler(psi_l,c_l,q,qb_u,qb_l,dt,z):\n",
      "    dz=np.diff(z)\n",
      "    #psinew=psi_l[:-1]+dt/(c_l[:-1]*dz*dz)*np.append(qb_u,np.diff(q))\n",
      "    psinew=psi_l[:-1]+dt/(c_l[:-1]*dz*dz)*np.diff(np.append((qb_u+q[0])/2.,q))\n",
      "    psilow=psi_l[-1]+dt/(c_l[-1]*dz[-1])*qb_l\n",
      "    return np.append(psinew,psilow)\n",
      "\n",
      "def richards(t_end,psi,mc):\n",
      "    time=0.\n",
      "    soil=mc.soilgrid[:,1]-1\n",
      "    dzmn=mc.mgrid.latfac.values\n",
      "    while time<t_end:\n",
      "        k=vG.ku_psi(psi, mc.soilmatrix.ks[soil], mc.soilmatrix.alpha[soil], mc.soilmatrix.n[soil]).values\n",
      "        c=vG.c_psi(psi, mc.soilmatrix.ts[soil], mc.soilmatrix.tr[soil], mc.soilmatrix.alpha[soil], mc.soilmatrix.n[soil]).values\n",
      "        q=darcy(psi,mc.zgrid[:,1],k)\n",
      "        dt=np.amin([0.1,0.05*dzmn/np.amax(np.abs(q))])\n",
      "        #predictor\n",
      "        psinew=euler(psi,c,q,0.,0.,dt*0.5,mc.zgrid[:,1])\n",
      "\n",
      "        k=vG.ku_psi(psinew, mc.soilmatrix.ks[soil], mc.soilmatrix.alpha[soil], mc.soilmatrix.n[soil]).values\n",
      "        c=vG.c_psi(psinew, mc.soilmatrix.ts[soil], mc.soilmatrix.tr[soil], mc.soilmatrix.alpha[soil], mc.soilmatrix.n[soil]).values\n",
      "        q=darcy(psinew,mc.zgrid[:,1],k)\n",
      "    \n",
      "        #corrector\n",
      "        psinew=euler(psinew,c,q,0.,0.,dt,mc.zgrid[:,1])\n",
      "        psi=psinew\n",
      "        time=time+dt\n",
      "    \n",
      "    return psi\n"
     ],
     "language": "python",
     "metadata": {},
     "outputs": [],
     "prompt_number": 22
    },
    {
     "cell_type": "heading",
     "level": 4,
     "metadata": {},
     "source": [
      "Further preparations"
     ]
    },
    {
     "cell_type": "code",
     "collapsed": false,
     "input": [
      "#prepare for 1D\n",
      "mc.mgrid.latgrid=1\n",
      "mc.mgrid.width=mc.mgrid.latfac*40.\n",
      "drained=pd.DataFrame(np.array([]))\n",
      "leftover=0\n",
      "runname='echoRD_1D_xobs_semidry10X'"
     ],
     "language": "python",
     "metadata": {},
     "outputs": [],
     "prompt_number": 23
    },
    {
     "cell_type": "code",
     "collapsed": false,
     "input": [
      "[thS,npart]=gridupdate_thS1D(particles.cell,mc,pdyn)\n",
      "endtime=pd.to_datetime('06:00 28/06/94')\n",
      "t_end=(endtime-reftime).seconds\n",
      "output=60.\n",
      "dummy=np.floor(t_end/output)\n",
      "dummi=dummy.astype(int)\n",
      "leftover=0\n",
      "drained=pd.DataFrame(np.array([]))\n",
      "timenow=0.\n",
      "p = ProgressBar(dummi)\n",
      "mc.prects=True\n",
      "ad_diff=False"
     ],
     "language": "python",
     "metadata": {},
     "outputs": [],
     "prompt_number": 24
    },
    {
     "cell_type": "code",
     "collapsed": false,
     "input": [
      "#prepare precip time series for echoRD\n",
      "idy=np.argmin([np.abs(obs.index[x]-endtime) for x in range(len(obs))])\n",
      "precTSx=obs.Prec.iloc[idx:idy]/100.\n",
      "precTSx.index=[np.abs(precTSx.index[x]-reftime).seconds for x in range(len(precTSx))]"
     ],
     "language": "python",
     "metadata": {},
     "outputs": [],
     "prompt_number": 25
    },
    {
     "cell_type": "code",
     "collapsed": false,
     "input": [
      "#prepare obs time series\n",
      "obsx=obs.iloc[idx:idy,0:5]\n",
      "obsx.index=[np.abs(obsx.index[x]-reftime).seconds for x in range(len(obsx))]"
     ],
     "language": "python",
     "metadata": {},
     "outputs": [],
     "prompt_number": 26
    },
    {
     "cell_type": "code",
     "collapsed": false,
     "input": [
      "soil=mc.soilgrid[:,1]-1"
     ],
     "language": "python",
     "metadata": {},
     "outputs": [],
     "prompt_number": 27
    },
    {
     "cell_type": "code",
     "collapsed": false,
     "input": [
      "#output=1000.\n",
      "#test simpegFlow\n",
      "h = vG.psi_theta(theta,mc.soilmatrix.ts[soil],mc.soilmatrix.tr[soil],mc.soilmatrix.alpha[soil],mc.soilmatrix.n[soil]).values\n",
      "def bc(time,top_psi):\n",
      "    return np.array([h[0],h[-1]])\n",
      "prob = Richards.RichardsProblem(M, mapping=E, timeSteps=[(output, 1)], boundaryConditions=bc, initialConditions=h, doNewton=False, method='mixed')\n",
      "Hs = prob.fields(mtrue)\n",
      "theta_r=E.theta(Hs[1],mtrue)\n",
      "\n",
      "#test eulerRichards\n",
      "psi_re = richards(output,h,mc)\n",
      "theta_re = vG.theta_psi(psi_re, mc.soilmatrix.ts[soil], mc.soilmatrix.tr[soil], mc.soilmatrix.alpha[soil], mc.soilmatrix.n[soil])\n",
      "oneDplot(particles,obsx,theta_r,theta_re,0.,1,runname,timenow,i,mc,False,output*i/60.)"
     ],
     "language": "python",
     "metadata": {},
     "outputs": [],
     "prompt_number": 28
    },
    {
     "cell_type": "code",
     "collapsed": false,
     "input": [
      "k=vG.ku_psi(h, mc.soilmatrix.ks[soil], mc.soilmatrix.alpha[soil], mc.soilmatrix.n[soil]).values\n",
      "q=darcy(h,mc.zgrid[:,1],k)\n"
     ],
     "language": "python",
     "metadata": {},
     "outputs": [],
     "prompt_number": 29
    },
    {
     "cell_type": "code",
     "collapsed": false,
     "input": [
      "if ad_diff:\n",
      "    colnames=['obs1','obs2','obs3','obs4','obs5','part1','part2','part3','part4','part5','richE1','richE2','richE3','richE4','richE5','richS1','richS2','richS3','richS4','richS5','partdiff1','partdiff2','partdiff3','partdiff4','partdiff5']\n",
      "else:\n",
      "    colnames=['obs1','obs2','obs3','obs4','obs5','part1','part2','part3','part4','part5','richE1','richE2','richE3','richE4','richE5','richS1','richS2','richS3','richS4','richS5']\n",
      "TSstore=pd.DataFrame(np.zeros((dummi,len(colnames))),columns=colnames)\n",
      "TSstore.index=pd.date_range(reftime, endtime,freq='60s')[:-1]"
     ],
     "language": "python",
     "metadata": {},
     "outputs": [],
     "prompt_number": 30
    },
    {
     "cell_type": "code",
     "collapsed": false,
     "input": [
      "psi_r=h\n",
      "psi_re=h\n",
      "particles.lastZ=particles.z"
     ],
     "language": "python",
     "metadata": {},
     "outputs": [],
     "prompt_number": 31
    },
    {
     "cell_type": "heading",
     "level": 3,
     "metadata": {},
     "source": [
      "RUN MODELS"
     ]
    },
    {
     "cell_type": "code",
     "collapsed": false,
     "input": [
      "for i in np.arange(dummi):\n",
      "    #Pe=np.amax(np.abs(particles.advect[particles.flag==1]))/mc.D[np.amax(thS),4]\n",
      "    storedummy=oneDplot(particles,obsx,theta_r,theta_re,output,1,runname,timenow,i,mc,False,output*i/60.,True,(4.7,7),[0.15,0.32,0.05],ad_diff,noplot=True)\n",
      "    particles.lastZ=particles.z\n",
      "    [particles,npart,thS,leftover,drained,timenow,infiltp] = CAOSpy_run1D_adv(particles,npart,thS,leftover,drained,i*output,(i+1)*output,precTSx,mc,pdyn,cinf)\n",
      "    if infiltp>0.:\n",
      "        theta_r[0] = np.amin([theta_r[0]+infiltp*mc.particleA/(mc.mgrid.vertfac**2).values,mc.soilmatrix.ts[soil[0]]-0.03,vG.theta_thst(thS[0]/100., mc.soilmatrix.ts[soil[0]], mc.soilmatrix.tr[soil[0]])])\n",
      "        psi_r = vG.psi_theta(theta_r, mc.soilmatrix.ts[soil], mc.soilmatrix.tr[soil], mc.soilmatrix.alpha[soil], mc.soilmatrix.n[soil]).values\n",
      "        theta_re.iloc[0] = np.amin([theta_re.iloc[0]+infiltp*mc.particleA/(mc.mgrid.vertfac**2).values,mc.soilmatrix.ts[soil[0]]-0.03,vG.theta_thst(thS[0]/100., mc.soilmatrix.ts[soil[0]], mc.soilmatrix.tr[soil[0]])])\n",
      "        psi_re = vG.psi_theta(theta_re, mc.soilmatrix.ts[soil], mc.soilmatrix.tr[soil], mc.soilmatrix.alpha[soil], mc.soilmatrix.n[soil]).values\n",
      "    \n",
      "    #simpegFlow\n",
      "    def bc(time,top_psi):\n",
      "        return np.array([psi_r[0],psi_r[-1]])\n",
      "    #bcBTx = np.array([psi[-1],psi[0]])\n",
      "    prob = Richards.RichardsProblem(M, mapping=E, timeSteps=[(output, 1)], boundaryConditions=bc, initialConditions=psi_r, doNewton=False, method='mixed')\n",
      "    psi_r = prob.fields(mtrue)[1]\n",
      "    theta_r=E.theta(psi_r,mtrue)\n",
      "    #Euler Richards\n",
      "    psi_re = richards(output/100.,psi_re,mc) #somehow the richards solver has a scaling problem of 100 >> debug!\n",
      "    theta_re = vG.theta_psi(psi_re, mc.soilmatrix.ts[soil], mc.soilmatrix.tr[soil], mc.soilmatrix.alpha[soil], mc.soilmatrix.n[soil])\n",
      "    #store for TS\n",
      "    TSstore.iloc[i]=np.concatenate(storedummy)\n",
      "    oneDplotX(particles,obsx,theta_r,theta_re,output,1,runname,timenow,i,mc,True,output*i/60.,False,(3.5,6),[0.15,0.32,0.05],False)\n",
      "    p.animate(i+1)"
     ],
     "language": "python",
     "metadata": {},
     "outputs": [
      {
       "output_type": "stream",
       "stream": "stdout",
       "text": [
        "\r",
        "[                  0%                  ]"
       ]
      },
      {
       "output_type": "stream",
       "stream": "stdout",
       "text": [
        " \r",
        "[                  0%                  ]  2 of 505 complete"
       ]
      },
      {
       "output_type": "stream",
       "stream": "stdout",
       "text": [
        " \r",
        "[                  1%                  ]  3 of 505 complete"
       ]
      },
      {
       "output_type": "stream",
       "stream": "stdout",
       "text": [
        " \r",
        "[                  1%                  ]  4 of 505 complete"
       ]
      },
      {
       "output_type": "stream",
       "stream": "stdout",
       "text": [
        " \r",
        "[                  1%                  ]  5 of 505 complete"
       ]
      },
      {
       "output_type": "stream",
       "stream": "stdout",
       "text": [
        " \r",
        "[                  1%                  ]  6 of 505 complete"
       ]
      },
      {
       "output_type": "stream",
       "stream": "stdout",
       "text": [
        " \r",
        "[                  1%                  ]  7 of 505 complete"
       ]
      },
      {
       "output_type": "stream",
       "stream": "stdout",
       "text": [
        " \r",
        "[*                 2%                  ]  8 of 505 complete"
       ]
      },
      {
       "output_type": "stream",
       "stream": "stdout",
       "text": [
        " \r",
        "[*                 2%                  ]  9 of 505 complete"
       ]
      },
      {
       "output_type": "stream",
       "stream": "stdout",
       "text": [
        " \r",
        "[*                 2%                  ]  10 of 505 complete"
       ]
      },
      {
       "output_type": "stream",
       "stream": "stdout",
       "text": [
        " \r",
        "[*                 2%                  ]  11 of 505 complete"
       ]
      },
      {
       "output_type": "stream",
       "stream": "stdout",
       "text": [
        " \r",
        "[*                 2%                  ]  12 of 505 complete"
       ]
      },
      {
       "output_type": "stream",
       "stream": "stdout",
       "text": [
        " \r",
        "[*                 3%                  ]  13 of 505 complete"
       ]
      },
      {
       "output_type": "stream",
       "stream": "stdout",
       "text": [
        " \r",
        "[*                 3%                  ]  14 of 505 complete"
       ]
      },
      {
       "output_type": "stream",
       "stream": "stdout",
       "text": [
        " \r",
        "[*                 3%                  ]  15 of 505 complete"
       ]
      },
      {
       "output_type": "stream",
       "stream": "stdout",
       "text": [
        " \r",
        "[*                 3%                  ]  16 of 505 complete"
       ]
      },
      {
       "output_type": "stream",
       "stream": "stdout",
       "text": [
        " \r",
        "[*                 3%                  ]  17 of 505 complete"
       ]
      },
      {
       "output_type": "stream",
       "stream": "stdout",
       "text": [
        " \r",
        "[**                4%                  ]  18 of 505 complete"
       ]
      },
      {
       "output_type": "stream",
       "stream": "stdout",
       "text": [
        " \r",
        "[**                4%                  ]  19 of 505 complete"
       ]
      },
      {
       "output_type": "stream",
       "stream": "stdout",
       "text": [
        " \r",
        "[**                4%                  ]  20 of 505 complete"
       ]
      },
      {
       "output_type": "stream",
       "stream": "stdout",
       "text": [
        " \r",
        "[**                4%                  ]  21 of 505 complete"
       ]
      },
      {
       "output_type": "stream",
       "stream": "stdout",
       "text": [
        " \r",
        "[**                4%                  ]  22 of 505 complete"
       ]
      },
      {
       "output_type": "stream",
       "stream": "stdout",
       "text": [
        " \r",
        "[**                5%                  ]  23 of 505 complete"
       ]
      },
      {
       "output_type": "stream",
       "stream": "stdout",
       "text": [
        " \r",
        "[**                5%                  ]  24 of 505 complete"
       ]
      },
      {
       "output_type": "stream",
       "stream": "stdout",
       "text": [
        " \r",
        "[**                5%                  ]  25 of 505 complete"
       ]
      },
      {
       "output_type": "stream",
       "stream": "stdout",
       "text": [
        " \r",
        "[**                5%                  ]  26 of 505 complete"
       ]
      },
      {
       "output_type": "stream",
       "stream": "stdout",
       "text": [
        " \r",
        "[**                5%                  ]  27 of 505 complete"
       ]
      },
      {
       "output_type": "stream",
       "stream": "stdout",
       "text": [
        " \r",
        "[**                6%                  ]  28 of 505 complete"
       ]
      },
      {
       "output_type": "stream",
       "stream": "stdout",
       "text": [
        " \r",
        "[**                6%                  ]  29 of 505 complete"
       ]
      },
      {
       "output_type": "stream",
       "stream": "stdout",
       "text": [
        " \r",
        "[**                6%                  ]  30 of 505 complete"
       ]
      },
      {
       "output_type": "stream",
       "stream": "stdout",
       "text": [
        " \r",
        "[**                6%                  ]  31 of 505 complete"
       ]
      },
      {
       "output_type": "stream",
       "stream": "stdout",
       "text": [
        " \r",
        "[**                6%                  ]  32 of 505 complete"
       ]
      },
      {
       "output_type": "stream",
       "stream": "stdout",
       "text": [
        " \r",
        "[***               7%                  ]  33 of 505 complete"
       ]
      },
      {
       "output_type": "stream",
       "stream": "stdout",
       "text": [
        " \r",
        "[***               7%                  ]  34 of 505 complete"
       ]
      },
      {
       "output_type": "stream",
       "stream": "stdout",
       "text": [
        " \r",
        "[***               7%                  ]  35 of 505 complete"
       ]
      },
      {
       "output_type": "stream",
       "stream": "stdout",
       "text": [
        " \r",
        "[***               7%                  ]  36 of 505 complete"
       ]
      },
      {
       "output_type": "stream",
       "stream": "stdout",
       "text": [
        " \r",
        "[***               7%                  ]  37 of 505 complete"
       ]
      },
      {
       "output_type": "stream",
       "stream": "stdout",
       "text": [
        " \r",
        "[***               8%                  ]  38 of 505 complete"
       ]
      },
      {
       "output_type": "stream",
       "stream": "stdout",
       "text": [
        " \r",
        "[***               8%                  ]  39 of 505 complete"
       ]
      },
      {
       "output_type": "stream",
       "stream": "stdout",
       "text": [
        " \r",
        "[***               8%                  ]  40 of 505 complete"
       ]
      },
      {
       "output_type": "stream",
       "stream": "stdout",
       "text": [
        " \r",
        "[***               8%                  ]  41 of 505 complete"
       ]
      },
      {
       "output_type": "stream",
       "stream": "stdout",
       "text": [
        " \r",
        "[***               8%                  ]  42 of 505 complete"
       ]
      },
      {
       "output_type": "stream",
       "stream": "stdout",
       "text": [
        " \r",
        "[***               9%                  ]  43 of 505 complete"
       ]
      },
      {
       "output_type": "stream",
       "stream": "stdout",
       "text": [
        " \r",
        "[***               9%                  ]  44 of 505 complete"
       ]
      },
      {
       "output_type": "stream",
       "stream": "stdout",
       "text": [
        " \r",
        "[***               9%                  ]  45 of 505 complete"
       ]
      },
      {
       "output_type": "stream",
       "stream": "stdout",
       "text": [
        " \r",
        "[***               9%                  ]  46 of 505 complete"
       ]
      },
      {
       "output_type": "stream",
       "stream": "stdout",
       "text": [
        " \r",
        "[***               9%                  ]  47 of 505 complete"
       ]
      },
      {
       "output_type": "stream",
       "stream": "stdout",
       "text": [
        " \r",
        "[****             10%                  ]  48 of 505 complete"
       ]
      },
      {
       "output_type": "stream",
       "stream": "stdout",
       "text": [
        " \r",
        "[****             10%                  ]  49 of 505 complete"
       ]
      },
      {
       "output_type": "stream",
       "stream": "stdout",
       "text": [
        " \r",
        "[****             10%                  ]  50 of 505 complete"
       ]
      },
      {
       "output_type": "stream",
       "stream": "stdout",
       "text": [
        " \r",
        "[****             10%                  ]  51 of 505 complete"
       ]
      },
      {
       "output_type": "stream",
       "stream": "stdout",
       "text": [
        " \r",
        "[****             10%                  ]  52 of 505 complete"
       ]
      },
      {
       "output_type": "stream",
       "stream": "stdout",
       "text": [
        " \r",
        "[****             10%                  ]  53 of 505 complete"
       ]
      },
      {
       "output_type": "stream",
       "stream": "stdout",
       "text": [
        " \r",
        "[****             11%                  ]  54 of 505 complete"
       ]
      },
      {
       "output_type": "stream",
       "stream": "stdout",
       "text": [
        " \r",
        "[****             11%                  ]  55 of 505 complete"
       ]
      },
      {
       "output_type": "stream",
       "stream": "stdout",
       "text": [
        " \r",
        "[****             11%                  ]  56 of 505 complete"
       ]
      },
      {
       "output_type": "stream",
       "stream": "stdout",
       "text": [
        " \r",
        "[****             11%                  ]  57 of 505 complete"
       ]
      },
      {
       "output_type": "stream",
       "stream": "stdout",
       "text": [
        " \r",
        "[****             11%                  ]  58 of 505 complete"
       ]
      },
      {
       "output_type": "stream",
       "stream": "stdout",
       "text": [
        " \r",
        "[*****            12%                  ]  59 of 505 complete"
       ]
      },
      {
       "output_type": "stream",
       "stream": "stdout",
       "text": [
        " \r",
        "[*****            12%                  ]  60 of 505 complete"
       ]
      },
      {
       "output_type": "stream",
       "stream": "stdout",
       "text": [
        " \r",
        "[*****            12%                  ]  61 of 505 complete"
       ]
      },
      {
       "output_type": "stream",
       "stream": "stdout",
       "text": [
        " \r",
        "[*****            12%                  ]  62 of 505 complete"
       ]
      },
      {
       "output_type": "stream",
       "stream": "stdout",
       "text": [
        " \r",
        "[*****            12%                  ]  63 of 505 complete"
       ]
      },
      {
       "output_type": "stream",
       "stream": "stdout",
       "text": [
        " \r",
        "[*****            13%                  ]  64 of 505 complete"
       ]
      },
      {
       "output_type": "stream",
       "stream": "stdout",
       "text": [
        " \r",
        "[*****            13%                  ]  65 of 505 complete"
       ]
      },
      {
       "output_type": "stream",
       "stream": "stdout",
       "text": [
        " \r",
        "[*****            13%                  ]  66 of 505 complete"
       ]
      },
      {
       "output_type": "stream",
       "stream": "stdout",
       "text": [
        " \r",
        "[*****            13%                  ]  67 of 505 complete"
       ]
      },
      {
       "output_type": "stream",
       "stream": "stdout",
       "text": [
        " \r",
        "[*****            13%                  ]  68 of 505 complete"
       ]
      },
      {
       "output_type": "stream",
       "stream": "stdout",
       "text": [
        " \r",
        "[*****            14%                  ]  69 of 505 complete"
       ]
      },
      {
       "output_type": "stream",
       "stream": "stdout",
       "text": [
        " \r",
        "[*****            14%                  ]  70 of 505 complete"
       ]
      },
      {
       "output_type": "stream",
       "stream": "stdout",
       "text": [
        " \r",
        "[*****            14%                  ]  71 of 505 complete"
       ]
      },
      {
       "output_type": "stream",
       "stream": "stdout",
       "text": [
        " \r",
        "[*****            14%                  ]  72 of 505 complete"
       ]
      },
      {
       "output_type": "stream",
       "stream": "stdout",
       "text": [
        " \r",
        "[*****            14%                  ]  73 of 505 complete"
       ]
      },
      {
       "output_type": "stream",
       "stream": "stdout",
       "text": [
        " \r",
        "[******           15%                  ]  74 of 505 complete"
       ]
      },
      {
       "output_type": "stream",
       "stream": "stdout",
       "text": [
        " \r",
        "[******           15%                  ]  75 of 505 complete"
       ]
      },
      {
       "output_type": "stream",
       "stream": "stdout",
       "text": [
        " \r",
        "[******           15%                  ]  76 of 505 complete"
       ]
      },
      {
       "output_type": "stream",
       "stream": "stdout",
       "text": [
        " \r",
        "[******           15%                  ]  77 of 505 complete"
       ]
      },
      {
       "output_type": "stream",
       "stream": "stdout",
       "text": [
        " \r",
        "[******           15%                  ]  78 of 505 complete"
       ]
      },
      {
       "output_type": "stream",
       "stream": "stdout",
       "text": [
        " \r",
        "[******           16%                  ]  79 of 505 complete"
       ]
      },
      {
       "output_type": "stream",
       "stream": "stdout",
       "text": [
        " \r",
        "[******           16%                  ]  80 of 505 complete"
       ]
      },
      {
       "output_type": "stream",
       "stream": "stdout",
       "text": [
        " \r",
        "[******           16%                  ]  81 of 505 complete"
       ]
      },
      {
       "output_type": "stream",
       "stream": "stdout",
       "text": [
        " \r",
        "[******           16%                  ]  82 of 505 complete"
       ]
      },
      {
       "output_type": "stream",
       "stream": "stdout",
       "text": [
        " \r",
        "[******           16%                  ]  83 of 505 complete"
       ]
      },
      {
       "output_type": "stream",
       "stream": "stdout",
       "text": [
        " \r",
        "[******           17%                  ]  84 of 505 complete"
       ]
      },
      {
       "output_type": "stream",
       "stream": "stdout",
       "text": [
        " \r",
        "[******           17%                  ]  85 of 505 complete"
       ]
      },
      {
       "output_type": "stream",
       "stream": "stdout",
       "text": [
        " \r",
        "[******           17%                  ]  86 of 505 complete"
       ]
      },
      {
       "output_type": "stream",
       "stream": "stdout",
       "text": [
        " \r",
        "[******           17%                  ]  87 of 505 complete"
       ]
      },
      {
       "output_type": "stream",
       "stream": "stdout",
       "text": [
        " \r",
        "[******           17%                  ]  88 of 505 complete"
       ]
      },
      {
       "output_type": "stream",
       "stream": "stdout",
       "text": [
        " \r",
        "[*******          18%                  ]  89 of 505 complete"
       ]
      },
      {
       "output_type": "stream",
       "stream": "stdout",
       "text": [
        " \r",
        "[*******          18%                  ]  90 of 505 complete"
       ]
      },
      {
       "output_type": "stream",
       "stream": "stdout",
       "text": [
        " \r",
        "[*******          18%                  ]  91 of 505 complete"
       ]
      },
      {
       "output_type": "stream",
       "stream": "stdout",
       "text": [
        " \r",
        "[*******          18%                  ]  92 of 505 complete"
       ]
      },
      {
       "output_type": "stream",
       "stream": "stdout",
       "text": [
        " \r",
        "[*******          18%                  ]  93 of 505 complete"
       ]
      },
      {
       "output_type": "stream",
       "stream": "stdout",
       "text": [
        " \r",
        "[*******          19%                  ]  94 of 505 complete"
       ]
      },
      {
       "output_type": "stream",
       "stream": "stdout",
       "text": [
        " \r",
        "[*******          19%                  ]  95 of 505 complete"
       ]
      },
      {
       "output_type": "stream",
       "stream": "stdout",
       "text": [
        " \r",
        "[*******          19%                  ]  96 of 505 complete"
       ]
      },
      {
       "output_type": "stream",
       "stream": "stdout",
       "text": [
        " \r",
        "[*******          19%                  ]  97 of 505 complete"
       ]
      },
      {
       "output_type": "stream",
       "stream": "stdout",
       "text": [
        " \r",
        "[*******          19%                  ]  98 of 505 complete"
       ]
      },
      {
       "output_type": "stream",
       "stream": "stdout",
       "text": [
        " \r",
        "[********         20%                  ]  99 of 505 complete"
       ]
      },
      {
       "output_type": "stream",
       "stream": "stdout",
       "text": [
        " \r",
        "[********         20%                  ]  100 of 505 complete"
       ]
      },
      {
       "output_type": "stream",
       "stream": "stdout",
       "text": [
        " \r",
        "[********         20%                  ]  101 of 505 complete"
       ]
      },
      {
       "output_type": "stream",
       "stream": "stdout",
       "text": [
        " \r",
        "[********         20%                  ]  102 of 505 complete"
       ]
      },
      {
       "output_type": "stream",
       "stream": "stdout",
       "text": [
        " \r",
        "[********         20%                  ]  103 of 505 complete"
       ]
      },
      {
       "output_type": "stream",
       "stream": "stdout",
       "text": [
        " \r",
        "[********         21%                  ]  104 of 505 complete"
       ]
      },
      {
       "output_type": "stream",
       "stream": "stdout",
       "text": [
        " \r",
        "[********         21%                  ]  105 of 505 complete"
       ]
      },
      {
       "output_type": "stream",
       "stream": "stdout",
       "text": [
        " \r",
        "[********         21%                  ]  106 of 505 complete"
       ]
      },
      {
       "output_type": "stream",
       "stream": "stdout",
       "text": [
        " \r",
        "[********         21%                  ]  107 of 505 complete"
       ]
      },
      {
       "output_type": "stream",
       "stream": "stdout",
       "text": [
        " \r",
        "[********         21%                  ]  108 of 505 complete"
       ]
      },
      {
       "output_type": "stream",
       "stream": "stdout",
       "text": [
        " \r",
        "[********         22%                  ]  109 of 505 complete"
       ]
      },
      {
       "output_type": "stream",
       "stream": "stdout",
       "text": [
        " \r",
        "[********         22%                  ]  110 of 505 complete"
       ]
      },
      {
       "output_type": "stream",
       "stream": "stdout",
       "text": [
        " \r",
        "[********         22%                  ]  111 of 505 complete"
       ]
      },
      {
       "output_type": "stream",
       "stream": "stdout",
       "text": [
        " \r",
        "[********         22%                  ]  112 of 505 complete"
       ]
      },
      {
       "output_type": "stream",
       "stream": "stdout",
       "text": [
        " \r",
        "[********         22%                  ]  113 of 505 complete"
       ]
      },
      {
       "output_type": "stream",
       "stream": "stdout",
       "text": [
        " \r",
        "[*********        23%                  ]  114 of 505 complete"
       ]
      },
      {
       "output_type": "stream",
       "stream": "stdout",
       "text": [
        " \r",
        "[*********        23%                  ]  115 of 505 complete"
       ]
      },
      {
       "output_type": "stream",
       "stream": "stdout",
       "text": [
        " \r",
        "[*********        23%                  ]  116 of 505 complete"
       ]
      },
      {
       "output_type": "stream",
       "stream": "stdout",
       "text": [
        " \r",
        "[*********        23%                  ]  117 of 505 complete"
       ]
      },
      {
       "output_type": "stream",
       "stream": "stdout",
       "text": [
        " \r",
        "[*********        23%                  ]  118 of 505 complete"
       ]
      },
      {
       "output_type": "stream",
       "stream": "stdout",
       "text": [
        " \r",
        "[*********        24%                  ]  119 of 505 complete"
       ]
      },
      {
       "output_type": "stream",
       "stream": "stdout",
       "text": [
        " \r",
        "[*********        24%                  ]  120 of 505 complete"
       ]
      },
      {
       "output_type": "stream",
       "stream": "stdout",
       "text": [
        " \r",
        "[*********        24%                  ]  121 of 505 complete"
       ]
      },
      {
       "output_type": "stream",
       "stream": "stdout",
       "text": [
        " \r",
        "[*********        24%                  ]  122 of 505 complete"
       ]
      },
      {
       "output_type": "stream",
       "stream": "stdout",
       "text": [
        " \r",
        "[*********        24%                  ]  123 of 505 complete"
       ]
      },
      {
       "output_type": "stream",
       "stream": "stdout",
       "text": [
        " \r",
        "[**********       25%                  ]  124 of 505 complete"
       ]
      },
      {
       "output_type": "stream",
       "stream": "stdout",
       "text": [
        " \r",
        "[**********       25%                  ]  125 of 505 complete"
       ]
      },
      {
       "output_type": "stream",
       "stream": "stdout",
       "text": [
        " \r",
        "[**********       25%                  ]  126 of 505 complete"
       ]
      },
      {
       "output_type": "stream",
       "stream": "stdout",
       "text": [
        " \r",
        "[**********       25%                  ]  127 of 505 complete"
       ]
      },
      {
       "output_type": "stream",
       "stream": "stdout",
       "text": [
        " \r",
        "[**********       25%                  ]  128 of 505 complete"
       ]
      },
      {
       "output_type": "stream",
       "stream": "stdout",
       "text": [
        " \r",
        "[**********       26%                  ]  129 of 505 complete"
       ]
      },
      {
       "output_type": "stream",
       "stream": "stdout",
       "text": [
        " \r",
        "[**********       26%                  ]  130 of 505 complete"
       ]
      },
      {
       "output_type": "stream",
       "stream": "stdout",
       "text": [
        " \r",
        "[**********       26%                  ]  131 of 505 complete"
       ]
      },
      {
       "output_type": "stream",
       "stream": "stdout",
       "text": [
        " \r",
        "[**********       26%                  ]  132 of 505 complete"
       ]
      },
      {
       "output_type": "stream",
       "stream": "stdout",
       "text": [
        " \r",
        "[**********       26%                  ]  133 of 505 complete"
       ]
      },
      {
       "output_type": "stream",
       "stream": "stdout",
       "text": [
        " \r",
        "[**********       27%                  ]  134 of 505 complete"
       ]
      },
      {
       "output_type": "stream",
       "stream": "stdout",
       "text": [
        " \r",
        "[**********       27%                  ]  135 of 505 complete"
       ]
      },
      {
       "output_type": "stream",
       "stream": "stdout",
       "text": [
        " \r",
        "[**********       27%                  ]  136 of 505 complete"
       ]
      },
      {
       "output_type": "stream",
       "stream": "stdout",
       "text": [
        " \r",
        "[**********       27%                  ]  137 of 505 complete"
       ]
      },
      {
       "output_type": "stream",
       "stream": "stdout",
       "text": [
        " \r",
        "[**********       27%                  ]  138 of 505 complete"
       ]
      },
      {
       "output_type": "stream",
       "stream": "stdout",
       "text": [
        " \r",
        "[***********      28%                  ]  139 of 505 complete"
       ]
      },
      {
       "output_type": "stream",
       "stream": "stdout",
       "text": [
        " \r",
        "[***********      28%                  ]  140 of 505 complete"
       ]
      },
      {
       "output_type": "stream",
       "stream": "stdout",
       "text": [
        " \r",
        "[***********      28%                  ]  141 of 505 complete"
       ]
      },
      {
       "output_type": "stream",
       "stream": "stdout",
       "text": [
        " \r",
        "[***********      28%                  ]  142 of 505 complete"
       ]
      },
      {
       "output_type": "stream",
       "stream": "stdout",
       "text": [
        " \r",
        "[***********      28%                  ]  143 of 505 complete"
       ]
      },
      {
       "output_type": "stream",
       "stream": "stdout",
       "text": [
        " \r",
        "[***********      29%                  ]  144 of 505 complete"
       ]
      },
      {
       "output_type": "stream",
       "stream": "stdout",
       "text": [
        " \r",
        "[***********      29%                  ]  145 of 505 complete"
       ]
      },
      {
       "output_type": "stream",
       "stream": "stdout",
       "text": [
        " \r",
        "[***********      29%                  ]  146 of 505 complete"
       ]
      },
      {
       "output_type": "stream",
       "stream": "stdout",
       "text": [
        " \r",
        "[***********      29%                  ]  147 of 505 complete"
       ]
      },
      {
       "output_type": "stream",
       "stream": "stdout",
       "text": [
        " \r",
        "[***********      29%                  ]  148 of 505 complete"
       ]
      },
      {
       "output_type": "stream",
       "stream": "stdout",
       "text": [
        " \r",
        "[***********      30%                  ]  149 of 505 complete"
       ]
      },
      {
       "output_type": "stream",
       "stream": "stdout",
       "text": [
        " \r",
        "[***********      30%                  ]  150 of 505 complete"
       ]
      },
      {
       "output_type": "stream",
       "stream": "stdout",
       "text": [
        " \r",
        "[***********      30%                  ]  151 of 505 complete"
       ]
      },
      {
       "output_type": "stream",
       "stream": "stdout",
       "text": [
        " \r",
        "[***********      30%                  ]  152 of 505 complete"
       ]
      },
      {
       "output_type": "stream",
       "stream": "stdout",
       "text": [
        " \r",
        "[***********      30%                  ]  153 of 505 complete"
       ]
      },
      {
       "output_type": "stream",
       "stream": "stdout",
       "text": [
        " \r",
        "[***********      30%                  ]  154 of 505 complete"
       ]
      },
      {
       "output_type": "stream",
       "stream": "stdout",
       "text": [
        " \r",
        "[************     31%                  ]  155 of 505 complete"
       ]
      },
      {
       "output_type": "stream",
       "stream": "stdout",
       "text": [
        " \r",
        "[************     31%                  ]  156 of 505 complete"
       ]
      },
      {
       "output_type": "stream",
       "stream": "stdout",
       "text": [
        " \r",
        "[************     31%                  ]  157 of 505 complete"
       ]
      },
      {
       "output_type": "stream",
       "stream": "stdout",
       "text": [
        " \r",
        "[************     31%                  ]  158 of 505 complete"
       ]
      },
      {
       "output_type": "stream",
       "stream": "stdout",
       "text": [
        " \r",
        "[************     31%                  ]  159 of 505 complete"
       ]
      },
      {
       "output_type": "stream",
       "stream": "stdout",
       "text": [
        " \r",
        "[************     32%                  ]  160 of 505 complete"
       ]
      },
      {
       "output_type": "stream",
       "stream": "stdout",
       "text": [
        " \r",
        "[************     32%                  ]  161 of 505 complete"
       ]
      },
      {
       "output_type": "stream",
       "stream": "stdout",
       "text": [
        " \r",
        "[************     32%                  ]  162 of 505 complete"
       ]
      },
      {
       "output_type": "stream",
       "stream": "stdout",
       "text": [
        " \r",
        "[************     32%                  ]  163 of 505 complete"
       ]
      },
      {
       "output_type": "stream",
       "stream": "stdout",
       "text": [
        " \r",
        "[************     32%                  ]  164 of 505 complete"
       ]
      },
      {
       "output_type": "stream",
       "stream": "stdout",
       "text": [
        " \r",
        "[*************    33%                  ]  165 of 505 complete"
       ]
      },
      {
       "output_type": "stream",
       "stream": "stdout",
       "text": [
        " \r",
        "[*************    33%                  ]  166 of 505 complete"
       ]
      },
      {
       "output_type": "stream",
       "stream": "stdout",
       "text": [
        " \r",
        "[*************    33%                  ]  167 of 505 complete"
       ]
      },
      {
       "output_type": "stream",
       "stream": "stdout",
       "text": [
        " \r",
        "[*************    33%                  ]  168 of 505 complete"
       ]
      },
      {
       "output_type": "stream",
       "stream": "stdout",
       "text": [
        " \r",
        "[*************    33%                  ]  169 of 505 complete"
       ]
      },
      {
       "output_type": "stream",
       "stream": "stdout",
       "text": [
        " \r",
        "[*************    34%                  ]  170 of 505 complete"
       ]
      },
      {
       "output_type": "stream",
       "stream": "stdout",
       "text": [
        " \r",
        "[*************    34%                  ]  171 of 505 complete"
       ]
      },
      {
       "output_type": "stream",
       "stream": "stdout",
       "text": [
        " \r",
        "[*************    34%                  ]  172 of 505 complete"
       ]
      },
      {
       "output_type": "stream",
       "stream": "stdout",
       "text": [
        " \r",
        "[*************    34%                  ]  173 of 505 complete"
       ]
      },
      {
       "output_type": "stream",
       "stream": "stdout",
       "text": [
        " \r",
        "[*************    34%                  ]  174 of 505 complete"
       ]
      },
      {
       "output_type": "stream",
       "stream": "stdout",
       "text": [
        " \r",
        "[*************    35%                  ]  175 of 505 complete"
       ]
      },
      {
       "output_type": "stream",
       "stream": "stdout",
       "text": [
        " \r",
        "[*************    35%                  ]  176 of 505 complete"
       ]
      },
      {
       "output_type": "stream",
       "stream": "stdout",
       "text": [
        " \r",
        "[*************    35%                  ]  177 of 505 complete"
       ]
      },
      {
       "output_type": "stream",
       "stream": "stdout",
       "text": [
        " \r",
        "[*************    35%                  ]  178 of 505 complete"
       ]
      },
      {
       "output_type": "stream",
       "stream": "stdout",
       "text": [
        " \r",
        "[*************    35%                  ]  179 of 505 complete"
       ]
      },
      {
       "output_type": "stream",
       "stream": "stdout",
       "text": [
        " \r",
        "[**************   36%                  ]  180 of 505 complete"
       ]
      },
      {
       "output_type": "stream",
       "stream": "stdout",
       "text": [
        " \r",
        "[**************   36%                  ]  181 of 505 complete"
       ]
      },
      {
       "output_type": "stream",
       "stream": "stdout",
       "text": [
        " \r",
        "[**************   36%                  ]  182 of 505 complete"
       ]
      },
      {
       "output_type": "stream",
       "stream": "stdout",
       "text": [
        " \r",
        "[**************   36%                  ]  183 of 505 complete"
       ]
      },
      {
       "output_type": "stream",
       "stream": "stdout",
       "text": [
        " \r",
        "[**************   36%                  ]  184 of 505 complete"
       ]
      },
      {
       "output_type": "stream",
       "stream": "stdout",
       "text": [
        " \r",
        "[**************   37%                  ]  185 of 505 complete"
       ]
      },
      {
       "output_type": "stream",
       "stream": "stdout",
       "text": [
        " \r",
        "[**************   37%                  ]  186 of 505 complete"
       ]
      },
      {
       "output_type": "stream",
       "stream": "stdout",
       "text": [
        " \r",
        "[**************   37%                  ]  187 of 505 complete"
       ]
      },
      {
       "output_type": "stream",
       "stream": "stdout",
       "text": [
        " \r",
        "[**************   37%                  ]  188 of 505 complete"
       ]
      },
      {
       "output_type": "stream",
       "stream": "stdout",
       "text": [
        " \r",
        "[**************   37%                  ]  189 of 505 complete"
       ]
      },
      {
       "output_type": "stream",
       "stream": "stdout",
       "text": [
        " \r",
        "[**************   38%                  ]  190 of 505 complete"
       ]
      },
      {
       "output_type": "stream",
       "stream": "stdout",
       "text": [
        " \r",
        "[**************   38%                  ]  191 of 505 complete"
       ]
      },
      {
       "output_type": "stream",
       "stream": "stdout",
       "text": [
        " \r",
        "[**************   38%                  ]  192 of 505 complete"
       ]
      },
      {
       "output_type": "stream",
       "stream": "stdout",
       "text": [
        " \r",
        "[**************   38%                  ]  193 of 505 complete"
       ]
      },
      {
       "output_type": "stream",
       "stream": "stdout",
       "text": [
        " \r",
        "[**************   38%                  ]  194 of 505 complete"
       ]
      },
      {
       "output_type": "stream",
       "stream": "stdout",
       "text": [
        " \r",
        "[***************  39%                  ]  195 of 505 complete"
       ]
      },
      {
       "output_type": "stream",
       "stream": "stdout",
       "text": [
        " \r",
        "[***************  39%                  ]  196 of 505 complete"
       ]
      },
      {
       "output_type": "stream",
       "stream": "stdout",
       "text": [
        " \r",
        "[***************  39%                  ]  197 of 505 complete"
       ]
      },
      {
       "output_type": "stream",
       "stream": "stdout",
       "text": [
        " \r",
        "[***************  39%                  ]  198 of 505 complete"
       ]
      },
      {
       "output_type": "stream",
       "stream": "stdout",
       "text": [
        " \r",
        "[***************  39%                  ]  199 of 505 complete"
       ]
      },
      {
       "output_type": "stream",
       "stream": "stdout",
       "text": [
        " \r",
        "[***************  40%                  ]  200 of 505 complete"
       ]
      },
      {
       "output_type": "stream",
       "stream": "stdout",
       "text": [
        " \r",
        "[***************  40%                  ]  201 of 505 complete"
       ]
      },
      {
       "output_type": "stream",
       "stream": "stdout",
       "text": [
        " \r",
        "[***************  40%                  ]  202 of 505 complete"
       ]
      },
      {
       "output_type": "stream",
       "stream": "stdout",
       "text": [
        " \r",
        "[***************  40%                  ]  203 of 505 complete"
       ]
      },
      {
       "output_type": "stream",
       "stream": "stdout",
       "text": [
        " \r",
        "[***************  40%                  ]  204 of 505 complete"
       ]
      },
      {
       "output_type": "stream",
       "stream": "stdout",
       "text": [
        " \r",
        "[**************** 41%                  ]  205 of 505 complete"
       ]
      },
      {
       "output_type": "stream",
       "stream": "stdout",
       "text": [
        " \r",
        "[**************** 41%                  ]  206 of 505 complete"
       ]
      },
      {
       "output_type": "stream",
       "stream": "stdout",
       "text": [
        " \r",
        "[**************** 41%                  ]  207 of 505 complete"
       ]
      },
      {
       "output_type": "stream",
       "stream": "stdout",
       "text": [
        " \r",
        "[**************** 41%                  ]  208 of 505 complete"
       ]
      },
      {
       "output_type": "stream",
       "stream": "stdout",
       "text": [
        " \r",
        "[**************** 41%                  ]  209 of 505 complete"
       ]
      },
      {
       "output_type": "stream",
       "stream": "stdout",
       "text": [
        " \r",
        "[**************** 42%                  ]  210 of 505 complete"
       ]
      },
      {
       "output_type": "stream",
       "stream": "stdout",
       "text": [
        " \r",
        "[**************** 42%                  ]  211 of 505 complete"
       ]
      },
      {
       "output_type": "stream",
       "stream": "stdout",
       "text": [
        " \r",
        "[**************** 42%                  ]  212 of 505 complete"
       ]
      },
      {
       "output_type": "stream",
       "stream": "stdout",
       "text": [
        " \r",
        "[**************** 42%                  ]  213 of 505 complete"
       ]
      },
      {
       "output_type": "stream",
       "stream": "stdout",
       "text": [
        " \r",
        "[**************** 42%                  ]  214 of 505 complete"
       ]
      },
      {
       "output_type": "stream",
       "stream": "stdout",
       "text": [
        " \r",
        "[**************** 43%                  ]  215 of 505 complete"
       ]
      },
      {
       "output_type": "stream",
       "stream": "stdout",
       "text": [
        " \r",
        "[**************** 43%                  ]  216 of 505 complete"
       ]
      },
      {
       "output_type": "stream",
       "stream": "stdout",
       "text": [
        " \r",
        "[**************** 43%                  ]  217 of 505 complete"
       ]
      },
      {
       "output_type": "stream",
       "stream": "stdout",
       "text": [
        " \r",
        "[**************** 43%                  ]  218 of 505 complete"
       ]
      },
      {
       "output_type": "stream",
       "stream": "stdout",
       "text": [
        " \r",
        "[**************** 43%                  ]  219 of 505 complete"
       ]
      },
      {
       "output_type": "stream",
       "stream": "stdout",
       "text": [
        " \r",
        "[*****************44%                  ]  220 of 505 complete"
       ]
      },
      {
       "output_type": "stream",
       "stream": "stdout",
       "text": [
        " \r",
        "[*****************44%                  ]  221 of 505 complete"
       ]
      },
      {
       "output_type": "stream",
       "stream": "stdout",
       "text": [
        " \r",
        "[*****************44%                  ]  222 of 505 complete"
       ]
      },
      {
       "output_type": "stream",
       "stream": "stdout",
       "text": [
        " \r",
        "[*****************44%                  ]  223 of 505 complete"
       ]
      },
      {
       "output_type": "stream",
       "stream": "stdout",
       "text": [
        " \r",
        "[*****************44%                  ]  224 of 505 complete"
       ]
      },
      {
       "output_type": "stream",
       "stream": "stdout",
       "text": [
        " \r",
        "[*****************45%                  ]  225 of 505 complete"
       ]
      },
      {
       "output_type": "stream",
       "stream": "stdout",
       "text": [
        " \r",
        "[*****************45%                  ]  226 of 505 complete"
       ]
      },
      {
       "output_type": "stream",
       "stream": "stdout",
       "text": [
        " \r",
        "[*****************45%                  ]  227 of 505 complete"
       ]
      },
      {
       "output_type": "stream",
       "stream": "stdout",
       "text": [
        " \r",
        "[*****************45%                  ]  228 of 505 complete"
       ]
      },
      {
       "output_type": "stream",
       "stream": "stdout",
       "text": [
        " \r",
        "[*****************45%                  ]  229 of 505 complete"
       ]
      },
      {
       "output_type": "stream",
       "stream": "stdout",
       "text": [
        " \r",
        "[*****************46%                  ]  230 of 505 complete"
       ]
      },
      {
       "output_type": "stream",
       "stream": "stdout",
       "text": [
        " \r",
        "[*****************46%                  ]  231 of 505 complete"
       ]
      },
      {
       "output_type": "stream",
       "stream": "stdout",
       "text": [
        " \r",
        "[*****************46%                  ]  232 of 505 complete"
       ]
      },
      {
       "output_type": "stream",
       "stream": "stdout",
       "text": [
        " \r",
        "[*****************46%                  ]  233 of 505 complete"
       ]
      },
      {
       "output_type": "stream",
       "stream": "stdout",
       "text": [
        " \r",
        "[*****************46%                  ]  234 of 505 complete"
       ]
      },
      {
       "output_type": "stream",
       "stream": "stdout",
       "text": [
        " \r",
        "[*****************47%                  ]  235 of 505 complete"
       ]
      },
      {
       "output_type": "stream",
       "stream": "stdout",
       "text": [
        " \r",
        "[*****************47%                  ]  236 of 505 complete"
       ]
      },
      {
       "output_type": "stream",
       "stream": "stdout",
       "text": [
        " \r",
        "[*****************47%                  ]  237 of 505 complete"
       ]
      },
      {
       "output_type": "stream",
       "stream": "stdout",
       "text": [
        " \r",
        "[*****************47%                  ]  238 of 505 complete"
       ]
      },
      {
       "output_type": "stream",
       "stream": "stdout",
       "text": [
        " \r",
        "[*****************47%                  ]  239 of 505 complete"
       ]
      },
      {
       "output_type": "stream",
       "stream": "stdout",
       "text": [
        " \r",
        "[*****************48%                  ]  240 of 505 complete"
       ]
      },
      {
       "output_type": "stream",
       "stream": "stdout",
       "text": [
        " \r",
        "[*****************48%                  ]  241 of 505 complete"
       ]
      },
      {
       "output_type": "stream",
       "stream": "stdout",
       "text": [
        " \r",
        "[*****************48%                  ]  242 of 505 complete"
       ]
      },
      {
       "output_type": "stream",
       "stream": "stdout",
       "text": [
        " \r",
        "[*****************48%                  ]  243 of 505 complete"
       ]
      },
      {
       "output_type": "stream",
       "stream": "stdout",
       "text": [
        " \r",
        "[*****************48%                  ]  244 of 505 complete"
       ]
      },
      {
       "output_type": "stream",
       "stream": "stdout",
       "text": [
        " \r",
        "[*****************49%                  ]  245 of 505 complete"
       ]
      },
      {
       "output_type": "stream",
       "stream": "stdout",
       "text": [
        " \r",
        "[*****************49%                  ]  246 of 505 complete"
       ]
      },
      {
       "output_type": "stream",
       "stream": "stdout",
       "text": [
        " \r",
        "[*****************49%                  ]  247 of 505 complete"
       ]
      },
      {
       "output_type": "stream",
       "stream": "stdout",
       "text": [
        " \r",
        "[*****************49%                  ]  248 of 505 complete"
       ]
      },
      {
       "output_type": "stream",
       "stream": "stdout",
       "text": [
        " \r",
        "[*****************49%                  ]  249 of 505 complete"
       ]
      },
      {
       "output_type": "stream",
       "stream": "stdout",
       "text": [
        " \r",
        "[*****************50%                  ]  250 of 505 complete"
       ]
      },
      {
       "output_type": "stream",
       "stream": "stdout",
       "text": [
        " \r",
        "[*****************50%                  ]  251 of 505 complete"
       ]
      },
      {
       "output_type": "stream",
       "stream": "stdout",
       "text": [
        " \r",
        "[*****************50%                  ]  252 of 505 complete"
       ]
      },
      {
       "output_type": "stream",
       "stream": "stdout",
       "text": [
        " \r",
        "[*****************50%                  ]  253 of 505 complete"
       ]
      },
      {
       "output_type": "stream",
       "stream": "stdout",
       "text": [
        " \r",
        "[*****************50%                  ]  254 of 505 complete"
       ]
      },
      {
       "output_type": "stream",
       "stream": "stdout",
       "text": [
        " \r",
        "[*****************50%                  ]  255 of 505 complete"
       ]
      },
      {
       "output_type": "stream",
       "stream": "stdout",
       "text": [
        " \r",
        "[*****************51%                  ]  256 of 505 complete"
       ]
      },
      {
       "output_type": "stream",
       "stream": "stdout",
       "text": [
        " \r",
        "[*****************51%                  ]  257 of 505 complete"
       ]
      },
      {
       "output_type": "stream",
       "stream": "stdout",
       "text": [
        " \r",
        "[*****************51%                  ]  258 of 505 complete"
       ]
      },
      {
       "output_type": "stream",
       "stream": "stdout",
       "text": [
        " \r",
        "[*****************51%                  ]  259 of 505 complete"
       ]
      },
      {
       "output_type": "stream",
       "stream": "stdout",
       "text": [
        " \r",
        "[*****************51%                  ]  260 of 505 complete"
       ]
      },
      {
       "output_type": "stream",
       "stream": "stdout",
       "text": [
        " \r",
        "[*****************52%                  ]  261 of 505 complete"
       ]
      },
      {
       "output_type": "stream",
       "stream": "stdout",
       "text": [
        " \r",
        "[*****************52%                  ]  262 of 505 complete"
       ]
      },
      {
       "output_type": "stream",
       "stream": "stdout",
       "text": [
        " \r",
        "[*****************52%                  ]  263 of 505 complete"
       ]
      },
      {
       "output_type": "stream",
       "stream": "stdout",
       "text": [
        " \r",
        "[*****************52%                  ]  264 of 505 complete"
       ]
      },
      {
       "output_type": "stream",
       "stream": "stdout",
       "text": [
        " \r",
        "[*****************52%                  ]  265 of 505 complete"
       ]
      },
      {
       "output_type": "stream",
       "stream": "stdout",
       "text": [
        " \r",
        "[*****************53%                  ]  266 of 505 complete"
       ]
      },
      {
       "output_type": "stream",
       "stream": "stdout",
       "text": [
        " \r",
        "[*****************53%                  ]  267 of 505 complete"
       ]
      },
      {
       "output_type": "stream",
       "stream": "stdout",
       "text": [
        " \r",
        "[*****************53%                  ]  268 of 505 complete"
       ]
      },
      {
       "output_type": "stream",
       "stream": "stdout",
       "text": [
        " \r",
        "[*****************53%                  ]  269 of 505 complete"
       ]
      },
      {
       "output_type": "stream",
       "stream": "stdout",
       "text": [
        " \r",
        "[*****************53%                  ]  270 of 505 complete"
       ]
      },
      {
       "output_type": "stream",
       "stream": "stdout",
       "text": [
        " \r",
        "[*****************54%*                 ]  271 of 505 complete"
       ]
      },
      {
       "output_type": "stream",
       "stream": "stdout",
       "text": [
        " \r",
        "[*****************54%*                 ]  272 of 505 complete"
       ]
      },
      {
       "output_type": "stream",
       "stream": "stdout",
       "text": [
        " \r",
        "[*****************54%*                 ]  273 of 505 complete"
       ]
      },
      {
       "output_type": "stream",
       "stream": "stdout",
       "text": [
        " \r",
        "[*****************54%*                 ]  274 of 505 complete"
       ]
      },
      {
       "output_type": "stream",
       "stream": "stdout",
       "text": [
        " \r",
        "[*****************54%*                 ]  275 of 505 complete"
       ]
      },
      {
       "output_type": "stream",
       "stream": "stdout",
       "text": [
        " \r",
        "[*****************55%*                 ]  276 of 505 complete"
       ]
      },
      {
       "output_type": "stream",
       "stream": "stdout",
       "text": [
        " \r",
        "[*****************55%*                 ]  277 of 505 complete"
       ]
      },
      {
       "output_type": "stream",
       "stream": "stdout",
       "text": [
        " \r",
        "[*****************55%*                 ]  278 of 505 complete"
       ]
      },
      {
       "output_type": "stream",
       "stream": "stdout",
       "text": [
        " \r",
        "[*****************55%*                 ]  279 of 505 complete"
       ]
      },
      {
       "output_type": "stream",
       "stream": "stdout",
       "text": [
        " \r",
        "[*****************55%*                 ]  280 of 505 complete"
       ]
      },
      {
       "output_type": "stream",
       "stream": "stdout",
       "text": [
        " \r",
        "[*****************56%*                 ]  281 of 505 complete"
       ]
      },
      {
       "output_type": "stream",
       "stream": "stdout",
       "text": [
        " \r",
        "[*****************56%*                 ]  282 of 505 complete"
       ]
      },
      {
       "output_type": "stream",
       "stream": "stdout",
       "text": [
        " \r",
        "[*****************56%*                 ]  283 of 505 complete"
       ]
      },
      {
       "output_type": "stream",
       "stream": "stdout",
       "text": [
        " \r",
        "[*****************56%*                 ]  284 of 505 complete"
       ]
      },
      {
       "output_type": "stream",
       "stream": "stdout",
       "text": [
        " \r",
        "[*****************56%*                 ]  285 of 505 complete"
       ]
      },
      {
       "output_type": "stream",
       "stream": "stdout",
       "text": [
        " \r",
        "[*****************57%**                ]  286 of 505 complete"
       ]
      },
      {
       "output_type": "stream",
       "stream": "stdout",
       "text": [
        " \r",
        "[*****************57%**                ]  287 of 505 complete"
       ]
      },
      {
       "output_type": "stream",
       "stream": "stdout",
       "text": [
        " \r",
        "[*****************57%**                ]  288 of 505 complete"
       ]
      },
      {
       "output_type": "stream",
       "stream": "stdout",
       "text": [
        " \r",
        "[*****************57%**                ]  289 of 505 complete"
       ]
      },
      {
       "output_type": "stream",
       "stream": "stdout",
       "text": [
        " \r",
        "[*****************57%**                ]  290 of 505 complete"
       ]
      },
      {
       "output_type": "stream",
       "stream": "stdout",
       "text": [
        " \r",
        "[*****************58%**                ]  291 of 505 complete"
       ]
      },
      {
       "output_type": "stream",
       "stream": "stdout",
       "text": [
        " \r",
        "[*****************58%**                ]  292 of 505 complete"
       ]
      },
      {
       "output_type": "stream",
       "stream": "stdout",
       "text": [
        " \r",
        "[*****************58%**                ]  293 of 505 complete"
       ]
      },
      {
       "output_type": "stream",
       "stream": "stdout",
       "text": [
        " \r",
        "[*****************58%**                ]  294 of 505 complete"
       ]
      },
      {
       "output_type": "stream",
       "stream": "stdout",
       "text": [
        " \r",
        "[*****************58%**                ]  295 of 505 complete"
       ]
      },
      {
       "output_type": "stream",
       "stream": "stdout",
       "text": [
        " \r",
        "[*****************59%**                ]  296 of 505 complete"
       ]
      },
      {
       "output_type": "stream",
       "stream": "stdout",
       "text": [
        " \r",
        "[*****************59%**                ]  297 of 505 complete"
       ]
      },
      {
       "output_type": "stream",
       "stream": "stdout",
       "text": [
        " \r",
        "[*****************59%**                ]  298 of 505 complete"
       ]
      },
      {
       "output_type": "stream",
       "stream": "stdout",
       "text": [
        " \r",
        "[*****************59%**                ]  299 of 505 complete"
       ]
      },
      {
       "output_type": "stream",
       "stream": "stdout",
       "text": [
        " \r",
        "[*****************59%**                ]  300 of 505 complete"
       ]
      },
      {
       "output_type": "stream",
       "stream": "stdout",
       "text": [
        " \r",
        "[*****************60%***               ]  301 of 505 complete"
       ]
      },
      {
       "output_type": "stream",
       "stream": "stdout",
       "text": [
        " \r",
        "[*****************60%***               ]  302 of 505 complete"
       ]
      },
      {
       "output_type": "stream",
       "stream": "stdout",
       "text": [
        " \r",
        "[*****************60%***               ]  303 of 505 complete"
       ]
      },
      {
       "output_type": "stream",
       "stream": "stdout",
       "text": [
        " \r",
        "[*****************60%***               ]  304 of 505 complete"
       ]
      },
      {
       "output_type": "stream",
       "stream": "stdout",
       "text": [
        " \r",
        "[*****************60%***               ]  305 of 505 complete"
       ]
      },
      {
       "output_type": "stream",
       "stream": "stdout",
       "text": [
        " \r",
        "[*****************61%***               ]  306 of 505 complete"
       ]
      },
      {
       "output_type": "stream",
       "stream": "stdout",
       "text": [
        " \r",
        "[*****************61%***               ]  307 of 505 complete"
       ]
      },
      {
       "output_type": "stream",
       "stream": "stdout",
       "text": [
        " \r",
        "[*****************61%***               ]  308 of 505 complete"
       ]
      },
      {
       "output_type": "stream",
       "stream": "stdout",
       "text": [
        " \r",
        "[*****************61%***               ]  309 of 505 complete"
       ]
      },
      {
       "output_type": "stream",
       "stream": "stdout",
       "text": [
        " \r",
        "[*****************61%***               ]  310 of 505 complete"
       ]
      },
      {
       "output_type": "stream",
       "stream": "stdout",
       "text": [
        " \r",
        "[*****************62%****              ]  311 of 505 complete"
       ]
      },
      {
       "output_type": "stream",
       "stream": "stdout",
       "text": [
        " \r",
        "[*****************62%****              ]  312 of 505 complete"
       ]
      },
      {
       "output_type": "stream",
       "stream": "stdout",
       "text": [
        " \r",
        "[*****************62%****              ]  313 of 505 complete"
       ]
      },
      {
       "output_type": "stream",
       "stream": "stdout",
       "text": [
        " \r",
        "[*****************62%****              ]  314 of 505 complete"
       ]
      },
      {
       "output_type": "stream",
       "stream": "stdout",
       "text": [
        " \r",
        "[*****************62%****              ]  315 of 505 complete"
       ]
      },
      {
       "output_type": "stream",
       "stream": "stdout",
       "text": [
        " \r",
        "[*****************63%****              ]  316 of 505 complete"
       ]
      },
      {
       "output_type": "stream",
       "stream": "stdout",
       "text": [
        " \r",
        "[*****************63%****              ]  317 of 505 complete"
       ]
      },
      {
       "output_type": "stream",
       "stream": "stdout",
       "text": [
        " \r",
        "[*****************63%****              ]  318 of 505 complete"
       ]
      },
      {
       "output_type": "stream",
       "stream": "stdout",
       "text": [
        " \r",
        "[*****************63%****              ]  319 of 505 complete"
       ]
      },
      {
       "output_type": "stream",
       "stream": "stdout",
       "text": [
        " \r",
        "[*****************63%****              ]  320 of 505 complete"
       ]
      },
      {
       "output_type": "stream",
       "stream": "stdout",
       "text": [
        " \r",
        "[*****************64%****              ]  321 of 505 complete"
       ]
      },
      {
       "output_type": "stream",
       "stream": "stdout",
       "text": [
        " \r",
        "[*****************64%****              ]  322 of 505 complete"
       ]
      },
      {
       "output_type": "stream",
       "stream": "stdout",
       "text": [
        " \r",
        "[*****************64%****              ]  323 of 505 complete"
       ]
      },
      {
       "output_type": "stream",
       "stream": "stdout",
       "text": [
        " \r",
        "[*****************64%****              ]  324 of 505 complete"
       ]
      },
      {
       "output_type": "stream",
       "stream": "stdout",
       "text": [
        " \r",
        "[*****************64%****              ]  325 of 505 complete"
       ]
      },
      {
       "output_type": "stream",
       "stream": "stdout",
       "text": [
        " \r",
        "[*****************65%*****             ]  326 of 505 complete"
       ]
      },
      {
       "output_type": "stream",
       "stream": "stdout",
       "text": [
        " \r",
        "[*****************65%*****             ]  327 of 505 complete"
       ]
      },
      {
       "output_type": "stream",
       "stream": "stdout",
       "text": [
        " \r",
        "[*****************65%*****             ]  328 of 505 complete"
       ]
      },
      {
       "output_type": "stream",
       "stream": "stdout",
       "text": [
        " \r",
        "[*****************65%*****             ]  329 of 505 complete"
       ]
      },
      {
       "output_type": "stream",
       "stream": "stdout",
       "text": [
        " \r",
        "[*****************65%*****             ]  330 of 505 complete"
       ]
      },
      {
       "output_type": "stream",
       "stream": "stdout",
       "text": [
        " \r",
        "[*****************66%*****             ]  331 of 505 complete"
       ]
      },
      {
       "output_type": "stream",
       "stream": "stdout",
       "text": [
        " \r",
        "[*****************66%*****             ]  332 of 505 complete"
       ]
      },
      {
       "output_type": "stream",
       "stream": "stdout",
       "text": [
        " \r",
        "[*****************66%*****             ]  333 of 505 complete"
       ]
      },
      {
       "output_type": "stream",
       "stream": "stdout",
       "text": [
        " \r",
        "[*****************66%*****             ]  334 of 505 complete"
       ]
      },
      {
       "output_type": "stream",
       "stream": "stdout",
       "text": [
        " \r",
        "[*****************66%*****             ]  335 of 505 complete"
       ]
      },
      {
       "output_type": "stream",
       "stream": "stdout",
       "text": [
        " \r",
        "[*****************67%*****             ]  336 of 505 complete"
       ]
      },
      {
       "output_type": "stream",
       "stream": "stdout",
       "text": [
        " \r",
        "[*****************67%*****             ]  337 of 505 complete"
       ]
      },
      {
       "output_type": "stream",
       "stream": "stdout",
       "text": [
        " \r",
        "[*****************67%*****             ]  338 of 505 complete"
       ]
      },
      {
       "output_type": "stream",
       "stream": "stdout",
       "text": [
        " \r",
        "[*****************67%*****             ]  339 of 505 complete"
       ]
      },
      {
       "output_type": "stream",
       "stream": "stdout",
       "text": [
        " \r",
        "[*****************67%*****             ]  340 of 505 complete"
       ]
      },
      {
       "output_type": "stream",
       "stream": "stdout",
       "text": [
        " \r",
        "[*****************68%******            ]  341 of 505 complete"
       ]
      },
      {
       "output_type": "stream",
       "stream": "stdout",
       "text": [
        " \r",
        "[*****************68%******            ]  342 of 505 complete"
       ]
      },
      {
       "output_type": "stream",
       "stream": "stdout",
       "text": [
        " \r",
        "[*****************68%******            ]  343 of 505 complete"
       ]
      },
      {
       "output_type": "stream",
       "stream": "stdout",
       "text": [
        " \r",
        "[*****************68%******            ]  344 of 505 complete"
       ]
      },
      {
       "output_type": "stream",
       "stream": "stdout",
       "text": [
        " \r",
        "[*****************68%******            ]  345 of 505 complete"
       ]
      },
      {
       "output_type": "stream",
       "stream": "stdout",
       "text": [
        " \r",
        "[*****************69%******            ]  346 of 505 complete"
       ]
      },
      {
       "output_type": "stream",
       "stream": "stdout",
       "text": [
        " \r",
        "[*****************69%******            ]  347 of 505 complete"
       ]
      },
      {
       "output_type": "stream",
       "stream": "stdout",
       "text": [
        " \r",
        "[*****************69%******            ]  348 of 505 complete"
       ]
      },
      {
       "output_type": "stream",
       "stream": "stdout",
       "text": [
        " \r",
        "[*****************69%******            ]  349 of 505 complete"
       ]
      },
      {
       "output_type": "stream",
       "stream": "stdout",
       "text": [
        " \r",
        "[*****************69%******            ]  350 of 505 complete"
       ]
      },
      {
       "output_type": "stream",
       "stream": "stdout",
       "text": [
        " \r",
        "[*****************70%*******           ]  351 of 505 complete"
       ]
      },
      {
       "output_type": "stream",
       "stream": "stdout",
       "text": [
        " \r",
        "[*****************70%*******           ]  352 of 505 complete"
       ]
      },
      {
       "output_type": "stream",
       "stream": "stdout",
       "text": [
        " \r",
        "[*****************70%*******           ]  353 of 505 complete"
       ]
      },
      {
       "output_type": "stream",
       "stream": "stdout",
       "text": [
        " \r",
        "[*****************70%*******           ]  354 of 505 complete"
       ]
      },
      {
       "output_type": "stream",
       "stream": "stdout",
       "text": [
        " \r",
        "[*****************70%*******           ]  355 of 505 complete"
       ]
      },
      {
       "output_type": "stream",
       "stream": "stdout",
       "text": [
        " \r",
        "[*****************70%*******           ]  356 of 505 complete"
       ]
      },
      {
       "output_type": "stream",
       "stream": "stdout",
       "text": [
        " \r",
        "[*****************71%*******           ]  357 of 505 complete"
       ]
      },
      {
       "output_type": "stream",
       "stream": "stdout",
       "text": [
        " \r",
        "[*****************71%*******           ]  358 of 505 complete"
       ]
      },
      {
       "output_type": "stream",
       "stream": "stdout",
       "text": [
        " \r",
        "[*****************71%*******           ]  359 of 505 complete"
       ]
      },
      {
       "output_type": "stream",
       "stream": "stdout",
       "text": [
        " \r",
        "[*****************71%*******           ]  360 of 505 complete"
       ]
      },
      {
       "output_type": "stream",
       "stream": "stdout",
       "text": [
        " \r",
        "[*****************71%*******           ]  361 of 505 complete"
       ]
      },
      {
       "output_type": "stream",
       "stream": "stdout",
       "text": [
        " \r",
        "[*****************72%*******           ]  362 of 505 complete"
       ]
      },
      {
       "output_type": "stream",
       "stream": "stdout",
       "text": [
        " \r",
        "[*****************72%*******           ]  363 of 505 complete"
       ]
      },
      {
       "output_type": "stream",
       "stream": "stdout",
       "text": [
        " \r",
        "[*****************72%*******           ]  364 of 505 complete"
       ]
      },
      {
       "output_type": "stream",
       "stream": "stdout",
       "text": [
        " \r",
        "[*****************72%*******           ]  365 of 505 complete"
       ]
      },
      {
       "output_type": "stream",
       "stream": "stdout",
       "text": [
        " \r",
        "[*****************72%*******           ]  366 of 505 complete"
       ]
      },
      {
       "output_type": "stream",
       "stream": "stdout",
       "text": [
        " \r",
        "[*****************73%********          ]  367 of 505 complete"
       ]
      },
      {
       "output_type": "stream",
       "stream": "stdout",
       "text": [
        " \r",
        "[*****************73%********          ]  368 of 505 complete"
       ]
      },
      {
       "output_type": "stream",
       "stream": "stdout",
       "text": [
        " \r",
        "[*****************73%********          ]  369 of 505 complete"
       ]
      },
      {
       "output_type": "stream",
       "stream": "stdout",
       "text": [
        " \r",
        "[*****************73%********          ]  370 of 505 complete"
       ]
      },
      {
       "output_type": "stream",
       "stream": "stdout",
       "text": [
        " \r",
        "[*****************73%********          ]  371 of 505 complete"
       ]
      },
      {
       "output_type": "stream",
       "stream": "stdout",
       "text": [
        " \r",
        "[*****************74%********          ]  372 of 505 complete"
       ]
      },
      {
       "output_type": "stream",
       "stream": "stdout",
       "text": [
        " \r",
        "[*****************74%********          ]  373 of 505 complete"
       ]
      },
      {
       "output_type": "stream",
       "stream": "stdout",
       "text": [
        " \r",
        "[*****************74%********          ]  374 of 505 complete"
       ]
      },
      {
       "output_type": "stream",
       "stream": "stdout",
       "text": [
        " \r",
        "[*****************74%********          ]  375 of 505 complete"
       ]
      },
      {
       "output_type": "stream",
       "stream": "stdout",
       "text": [
        " \r",
        "[*****************74%********          ]  376 of 505 complete"
       ]
      },
      {
       "output_type": "stream",
       "stream": "stdout",
       "text": [
        " \r",
        "[*****************75%*********         ]  377 of 505 complete"
       ]
      },
      {
       "output_type": "stream",
       "stream": "stdout",
       "text": [
        " \r",
        "[*****************75%*********         ]  378 of 505 complete"
       ]
      },
      {
       "output_type": "stream",
       "stream": "stdout",
       "text": [
        " \r",
        "[*****************75%*********         ]  379 of 505 complete"
       ]
      },
      {
       "output_type": "stream",
       "stream": "stdout",
       "text": [
        " \r",
        "[*****************75%*********         ]  380 of 505 complete"
       ]
      },
      {
       "output_type": "stream",
       "stream": "stdout",
       "text": [
        " \r",
        "[*****************75%*********         ]  381 of 505 complete"
       ]
      },
      {
       "output_type": "stream",
       "stream": "stdout",
       "text": [
        " \r",
        "[*****************76%*********         ]  382 of 505 complete"
       ]
      },
      {
       "output_type": "stream",
       "stream": "stdout",
       "text": [
        " \r",
        "[*****************76%*********         ]  383 of 505 complete"
       ]
      },
      {
       "output_type": "stream",
       "stream": "stdout",
       "text": [
        " \r",
        "[*****************76%*********         ]  384 of 505 complete"
       ]
      },
      {
       "output_type": "stream",
       "stream": "stdout",
       "text": [
        " \r",
        "[*****************76%*********         ]  385 of 505 complete"
       ]
      },
      {
       "output_type": "stream",
       "stream": "stdout",
       "text": [
        " \r",
        "[*****************76%*********         ]  386 of 505 complete"
       ]
      },
      {
       "output_type": "stream",
       "stream": "stdout",
       "text": [
        " \r",
        "[*****************77%*********         ]  387 of 505 complete"
       ]
      },
      {
       "output_type": "stream",
       "stream": "stdout",
       "text": [
        " \r",
        "[*****************77%*********         ]  388 of 505 complete"
       ]
      },
      {
       "output_type": "stream",
       "stream": "stdout",
       "text": [
        " \r",
        "[*****************77%*********         ]  389 of 505 complete"
       ]
      },
      {
       "output_type": "stream",
       "stream": "stdout",
       "text": [
        " \r",
        "[*****************77%*********         ]  390 of 505 complete"
       ]
      },
      {
       "output_type": "stream",
       "stream": "stdout",
       "text": [
        " \r",
        "[*****************77%*********         ]  391 of 505 complete"
       ]
      },
      {
       "output_type": "stream",
       "stream": "stdout",
       "text": [
        " \r",
        "[*****************78%**********        ]  392 of 505 complete"
       ]
      },
      {
       "output_type": "stream",
       "stream": "stdout",
       "text": [
        " \r",
        "[*****************78%**********        ]  393 of 505 complete"
       ]
      },
      {
       "output_type": "stream",
       "stream": "stdout",
       "text": [
        " \r",
        "[*****************78%**********        ]  394 of 505 complete"
       ]
      },
      {
       "output_type": "stream",
       "stream": "stdout",
       "text": [
        " \r",
        "[*****************78%**********        ]  395 of 505 complete"
       ]
      },
      {
       "output_type": "stream",
       "stream": "stdout",
       "text": [
        " \r",
        "[*****************78%**********        ]  396 of 505 complete"
       ]
      },
      {
       "output_type": "stream",
       "stream": "stdout",
       "text": [
        " \r",
        "[*****************79%**********        ]  397 of 505 complete"
       ]
      },
      {
       "output_type": "stream",
       "stream": "stdout",
       "text": [
        " \r",
        "[*****************79%**********        ]  398 of 505 complete"
       ]
      },
      {
       "output_type": "stream",
       "stream": "stdout",
       "text": [
        " \r",
        "[*****************79%**********        ]  399 of 505 complete"
       ]
      },
      {
       "output_type": "stream",
       "stream": "stdout",
       "text": [
        " \r",
        "[*****************79%**********        ]  400 of 505 complete"
       ]
      },
      {
       "output_type": "stream",
       "stream": "stdout",
       "text": [
        " \r",
        "[*****************79%**********        ]  401 of 505 complete"
       ]
      },
      {
       "output_type": "stream",
       "stream": "stdout",
       "text": [
        " \r",
        "[*****************80%**********        ]  402 of 505 complete"
       ]
      },
      {
       "output_type": "stream",
       "stream": "stdout",
       "text": [
        " \r",
        "[*****************80%**********        ]  403 of 505 complete"
       ]
      },
      {
       "output_type": "stream",
       "stream": "stdout",
       "text": [
        " \r",
        "[*****************80%**********        ]  404 of 505 complete"
       ]
      },
      {
       "output_type": "stream",
       "stream": "stdout",
       "text": [
        " \r",
        "[*****************80%**********        ]  405 of 505 complete"
       ]
      },
      {
       "output_type": "stream",
       "stream": "stdout",
       "text": [
        " \r",
        "[*****************80%**********        ]  406 of 505 complete"
       ]
      },
      {
       "output_type": "stream",
       "stream": "stdout",
       "text": [
        " \r",
        "[*****************81%***********       ]  407 of 505 complete"
       ]
      },
      {
       "output_type": "stream",
       "stream": "stdout",
       "text": [
        " \r",
        "[*****************81%***********       ]  408 of 505 complete"
       ]
      },
      {
       "output_type": "stream",
       "stream": "stdout",
       "text": [
        " \r",
        "[*****************81%***********       ]  409 of 505 complete"
       ]
      },
      {
       "output_type": "stream",
       "stream": "stdout",
       "text": [
        " \r",
        "[*****************81%***********       ]  410 of 505 complete"
       ]
      },
      {
       "output_type": "stream",
       "stream": "stdout",
       "text": [
        " \r",
        "[*****************81%***********       ]  411 of 505 complete"
       ]
      },
      {
       "output_type": "stream",
       "stream": "stdout",
       "text": [
        " \r",
        "[*****************82%***********       ]  412 of 505 complete"
       ]
      },
      {
       "output_type": "stream",
       "stream": "stdout",
       "text": [
        " \r",
        "[*****************82%***********       ]  413 of 505 complete"
       ]
      },
      {
       "output_type": "stream",
       "stream": "stdout",
       "text": [
        " \r",
        "[*****************82%***********       ]  414 of 505 complete"
       ]
      },
      {
       "output_type": "stream",
       "stream": "stdout",
       "text": [
        " \r",
        "[*****************82%***********       ]  415 of 505 complete"
       ]
      },
      {
       "output_type": "stream",
       "stream": "stdout",
       "text": [
        " \r",
        "[*****************82%***********       ]  416 of 505 complete"
       ]
      },
      {
       "output_type": "stream",
       "stream": "stdout",
       "text": [
        " \r",
        "[*****************83%************      ]  417 of 505 complete"
       ]
      },
      {
       "output_type": "stream",
       "stream": "stdout",
       "text": [
        " \r",
        "[*****************83%************      ]  418 of 505 complete"
       ]
      },
      {
       "output_type": "stream",
       "stream": "stdout",
       "text": [
        " \r",
        "[*****************83%************      ]  419 of 505 complete"
       ]
      },
      {
       "output_type": "stream",
       "stream": "stdout",
       "text": [
        " \r",
        "[*****************83%************      ]  420 of 505 complete"
       ]
      },
      {
       "output_type": "stream",
       "stream": "stdout",
       "text": [
        " \r",
        "[*****************83%************      ]  421 of 505 complete"
       ]
      },
      {
       "output_type": "stream",
       "stream": "stdout",
       "text": [
        " \r",
        "[*****************84%************      ]  422 of 505 complete"
       ]
      },
      {
       "output_type": "stream",
       "stream": "stdout",
       "text": [
        " \r",
        "[*****************84%************      ]  423 of 505 complete"
       ]
      },
      {
       "output_type": "stream",
       "stream": "stdout",
       "text": [
        " \r",
        "[*****************84%************      ]  424 of 505 complete"
       ]
      },
      {
       "output_type": "stream",
       "stream": "stdout",
       "text": [
        " \r",
        "[*****************84%************      ]  425 of 505 complete"
       ]
      },
      {
       "output_type": "stream",
       "stream": "stdout",
       "text": [
        " \r",
        "[*****************84%************      ]  426 of 505 complete"
       ]
      },
      {
       "output_type": "stream",
       "stream": "stdout",
       "text": [
        " \r",
        "[*****************85%************      ]  427 of 505 complete"
       ]
      },
      {
       "output_type": "stream",
       "stream": "stdout",
       "text": [
        " \r",
        "[*****************85%************      ]  428 of 505 complete"
       ]
      },
      {
       "output_type": "stream",
       "stream": "stdout",
       "text": [
        " \r",
        "[*****************85%************      ]  429 of 505 complete"
       ]
      },
      {
       "output_type": "stream",
       "stream": "stdout",
       "text": [
        " \r",
        "[*****************85%************      ]  430 of 505 complete"
       ]
      },
      {
       "output_type": "stream",
       "stream": "stdout",
       "text": [
        " \r",
        "[*****************85%************      ]  431 of 505 complete"
       ]
      },
      {
       "output_type": "stream",
       "stream": "stdout",
       "text": [
        " \r",
        "[*****************86%*************     ]  432 of 505 complete"
       ]
      },
      {
       "output_type": "stream",
       "stream": "stdout",
       "text": [
        " \r",
        "[*****************86%*************     ]  433 of 505 complete"
       ]
      },
      {
       "output_type": "stream",
       "stream": "stdout",
       "text": [
        " \r",
        "[*****************86%*************     ]  434 of 505 complete"
       ]
      },
      {
       "output_type": "stream",
       "stream": "stdout",
       "text": [
        " \r",
        "[*****************86%*************     ]  435 of 505 complete"
       ]
      },
      {
       "output_type": "stream",
       "stream": "stdout",
       "text": [
        " \r",
        "[*****************86%*************     ]  436 of 505 complete"
       ]
      },
      {
       "output_type": "stream",
       "stream": "stdout",
       "text": [
        " \r",
        "[*****************87%*************     ]  437 of 505 complete"
       ]
      },
      {
       "output_type": "stream",
       "stream": "stdout",
       "text": [
        " \r",
        "[*****************87%*************     ]  438 of 505 complete"
       ]
      },
      {
       "output_type": "stream",
       "stream": "stdout",
       "text": [
        " \r",
        "[*****************87%*************     ]  439 of 505 complete"
       ]
      },
      {
       "output_type": "stream",
       "stream": "stdout",
       "text": [
        " \r",
        "[*****************87%*************     ]  440 of 505 complete"
       ]
      },
      {
       "output_type": "stream",
       "stream": "stdout",
       "text": [
        " \r",
        "[*****************87%*************     ]  441 of 505 complete"
       ]
      },
      {
       "output_type": "stream",
       "stream": "stdout",
       "text": [
        " \r",
        "[*****************88%*************     ]  442 of 505 complete"
       ]
      },
      {
       "output_type": "stream",
       "stream": "stdout",
       "text": [
        " \r",
        "[*****************88%*************     ]  443 of 505 complete"
       ]
      },
      {
       "output_type": "stream",
       "stream": "stdout",
       "text": [
        " \r",
        "[*****************88%*************     ]  444 of 505 complete"
       ]
      },
      {
       "output_type": "stream",
       "stream": "stdout",
       "text": [
        " \r",
        "[*****************88%*************     ]  445 of 505 complete"
       ]
      },
      {
       "output_type": "stream",
       "stream": "stdout",
       "text": [
        " \r",
        "[*****************88%*************     ]  446 of 505 complete"
       ]
      },
      {
       "output_type": "stream",
       "stream": "stdout",
       "text": [
        " \r",
        "[*****************89%**************    ]  447 of 505 complete"
       ]
      },
      {
       "output_type": "stream",
       "stream": "stdout",
       "text": [
        " \r",
        "[*****************89%**************    ]  448 of 505 complete"
       ]
      },
      {
       "output_type": "stream",
       "stream": "stdout",
       "text": [
        " \r",
        "[*****************89%**************    ]  449 of 505 complete"
       ]
      },
      {
       "output_type": "stream",
       "stream": "stdout",
       "text": [
        " \r",
        "[*****************89%**************    ]  450 of 505 complete"
       ]
      },
      {
       "output_type": "stream",
       "stream": "stdout",
       "text": [
        " \r",
        "[*****************89%**************    ]  451 of 505 complete"
       ]
      },
      {
       "output_type": "stream",
       "stream": "stdout",
       "text": [
        " \r",
        "[*****************90%**************    ]  452 of 505 complete"
       ]
      },
      {
       "output_type": "stream",
       "stream": "stdout",
       "text": [
        " \r",
        "[*****************90%**************    ]  453 of 505 complete"
       ]
      },
      {
       "output_type": "stream",
       "stream": "stdout",
       "text": [
        " \r",
        "[*****************90%**************    ]  454 of 505 complete"
       ]
      },
      {
       "output_type": "stream",
       "stream": "stdout",
       "text": [
        " \r",
        "[*****************90%**************    ]  455 of 505 complete"
       ]
      },
      {
       "output_type": "stream",
       "stream": "stdout",
       "text": [
        " \r",
        "[*****************90%**************    ]  456 of 505 complete"
       ]
      },
      {
       "output_type": "stream",
       "stream": "stdout",
       "text": [
        " \r",
        "[*****************90%**************    ]  457 of 505 complete"
       ]
      },
      {
       "output_type": "stream",
       "stream": "stdout",
       "text": [
        " \r",
        "[*****************91%***************   ]  458 of 505 complete"
       ]
      },
      {
       "output_type": "stream",
       "stream": "stdout",
       "text": [
        " \r",
        "[*****************91%***************   ]  459 of 505 complete"
       ]
      },
      {
       "output_type": "stream",
       "stream": "stdout",
       "text": [
        " \r",
        "[*****************91%***************   ]  460 of 505 complete"
       ]
      },
      {
       "output_type": "stream",
       "stream": "stdout",
       "text": [
        " \r",
        "[*****************91%***************   ]  461 of 505 complete"
       ]
      },
      {
       "output_type": "stream",
       "stream": "stdout",
       "text": [
        " \r",
        "[*****************91%***************   ]  462 of 505 complete"
       ]
      },
      {
       "output_type": "stream",
       "stream": "stdout",
       "text": [
        " \r",
        "[*****************92%***************   ]  463 of 505 complete"
       ]
      },
      {
       "output_type": "stream",
       "stream": "stdout",
       "text": [
        " \r",
        "[*****************92%***************   ]  464 of 505 complete"
       ]
      },
      {
       "output_type": "stream",
       "stream": "stdout",
       "text": [
        " \r",
        "[*****************92%***************   ]  465 of 505 complete"
       ]
      },
      {
       "output_type": "stream",
       "stream": "stdout",
       "text": [
        " \r",
        "[*****************92%***************   ]  466 of 505 complete"
       ]
      },
      {
       "output_type": "stream",
       "stream": "stdout",
       "text": [
        " \r",
        "[*****************92%***************   ]  467 of 505 complete"
       ]
      },
      {
       "output_type": "stream",
       "stream": "stdout",
       "text": [
        " \r",
        "[*****************93%***************   ]  468 of 505 complete"
       ]
      },
      {
       "output_type": "stream",
       "stream": "stdout",
       "text": [
        " \r",
        "[*****************93%***************   ]  469 of 505 complete"
       ]
      },
      {
       "output_type": "stream",
       "stream": "stdout",
       "text": [
        " \r",
        "[*****************93%***************   ]  470 of 505 complete"
       ]
      },
      {
       "output_type": "stream",
       "stream": "stdout",
       "text": [
        " \r",
        "[*****************93%***************   ]  471 of 505 complete"
       ]
      },
      {
       "output_type": "stream",
       "stream": "stdout",
       "text": [
        " \r",
        "[*****************93%***************   ]  472 of 505 complete"
       ]
      },
      {
       "output_type": "stream",
       "stream": "stdout",
       "text": [
        " \r",
        "[*****************94%****************  ]  473 of 505 complete"
       ]
      },
      {
       "output_type": "stream",
       "stream": "stdout",
       "text": [
        " \r",
        "[*****************94%****************  ]  474 of 505 complete"
       ]
      },
      {
       "output_type": "stream",
       "stream": "stdout",
       "text": [
        " \r",
        "[*****************94%****************  ]  475 of 505 complete"
       ]
      },
      {
       "output_type": "stream",
       "stream": "stdout",
       "text": [
        " \r",
        "[*****************94%****************  ]  476 of 505 complete"
       ]
      },
      {
       "output_type": "stream",
       "stream": "stdout",
       "text": [
        " \r",
        "[*****************94%****************  ]  477 of 505 complete"
       ]
      },
      {
       "output_type": "stream",
       "stream": "stdout",
       "text": [
        " \r",
        "[*****************95%****************  ]  478 of 505 complete"
       ]
      },
      {
       "output_type": "stream",
       "stream": "stdout",
       "text": [
        " \r",
        "[*****************95%****************  ]  479 of 505 complete"
       ]
      },
      {
       "output_type": "stream",
       "stream": "stdout",
       "text": [
        " \r",
        "[*****************95%****************  ]  480 of 505 complete"
       ]
      },
      {
       "output_type": "stream",
       "stream": "stdout",
       "text": [
        " \r",
        "[*****************95%****************  ]  481 of 505 complete"
       ]
      },
      {
       "output_type": "stream",
       "stream": "stdout",
       "text": [
        " \r",
        "[*****************95%****************  ]  482 of 505 complete"
       ]
      },
      {
       "output_type": "stream",
       "stream": "stdout",
       "text": [
        " \r",
        "[*****************96%****************  ]  483 of 505 complete"
       ]
      },
      {
       "output_type": "stream",
       "stream": "stdout",
       "text": [
        " \r",
        "[*****************96%****************  ]  484 of 505 complete"
       ]
      },
      {
       "output_type": "stream",
       "stream": "stdout",
       "text": [
        " \r",
        "[*****************96%****************  ]  485 of 505 complete"
       ]
      },
      {
       "output_type": "stream",
       "stream": "stdout",
       "text": [
        " \r",
        "[*****************96%****************  ]  486 of 505 complete"
       ]
      },
      {
       "output_type": "stream",
       "stream": "stdout",
       "text": [
        " \r",
        "[*****************96%****************  ]  487 of 505 complete"
       ]
      },
      {
       "output_type": "stream",
       "stream": "stdout",
       "text": [
        " \r",
        "[*****************97%***************** ]  488 of 505 complete"
       ]
      },
      {
       "output_type": "stream",
       "stream": "stdout",
       "text": [
        " \r",
        "[*****************97%***************** ]  489 of 505 complete"
       ]
      },
      {
       "output_type": "stream",
       "stream": "stdout",
       "text": [
        " \r",
        "[*****************97%***************** ]  490 of 505 complete"
       ]
      },
      {
       "output_type": "stream",
       "stream": "stdout",
       "text": [
        " \r",
        "[*****************97%***************** ]  491 of 505 complete"
       ]
      },
      {
       "output_type": "stream",
       "stream": "stdout",
       "text": [
        " \r",
        "[*****************97%***************** ]  492 of 505 complete"
       ]
      },
      {
       "output_type": "stream",
       "stream": "stdout",
       "text": [
        " \r",
        "[*****************98%***************** ]  493 of 505 complete"
       ]
      },
      {
       "output_type": "stream",
       "stream": "stdout",
       "text": [
        " \r",
        "[*****************98%***************** ]  494 of 505 complete"
       ]
      },
      {
       "output_type": "stream",
       "stream": "stdout",
       "text": [
        " \r",
        "[*****************98%***************** ]  495 of 505 complete"
       ]
      },
      {
       "output_type": "stream",
       "stream": "stdout",
       "text": [
        " \r",
        "[*****************98%***************** ]  496 of 505 complete"
       ]
      },
      {
       "output_type": "stream",
       "stream": "stdout",
       "text": [
        " \r",
        "[*****************98%***************** ]  497 of 505 complete"
       ]
      },
      {
       "output_type": "stream",
       "stream": "stdout",
       "text": [
        " \r",
        "[*****************99%******************]  498 of 505 complete"
       ]
      },
      {
       "output_type": "stream",
       "stream": "stdout",
       "text": [
        " \r",
        "[*****************99%******************]  499 of 505 complete"
       ]
      },
      {
       "output_type": "stream",
       "stream": "stdout",
       "text": [
        " \r",
        "[*****************99%******************]  500 of 505 complete"
       ]
      },
      {
       "output_type": "stream",
       "stream": "stdout",
       "text": [
        " \r",
        "[*****************99%******************]  501 of 505 complete"
       ]
      },
      {
       "output_type": "stream",
       "stream": "stdout",
       "text": [
        " \r",
        "[*****************99%******************]  502 of 505 complete"
       ]
      },
      {
       "output_type": "stream",
       "stream": "stdout",
       "text": [
        " \r",
        "[****************100%******************]  503 of 505 complete"
       ]
      },
      {
       "output_type": "stream",
       "stream": "stdout",
       "text": [
        " \r",
        "[****************100%******************]  504 of 505 complete"
       ]
      },
      {
       "output_type": "stream",
       "stream": "stdout",
       "text": [
        " \r",
        "[****************100%******************]  505 of 505 complete"
       ]
      },
      {
       "output_type": "stream",
       "stream": "stdout",
       "text": [
        "\n"
       ]
      }
     ],
     "prompt_number": 32
    },
    {
     "cell_type": "heading",
     "level": 3,
     "metadata": {},
     "source": [
      "Results time series"
     ]
    },
    {
     "cell_type": "code",
     "collapsed": false,
     "input": [
      "TSobsx=pd.concat([TSstore.resample('10min'),pd.DataFrame(0.01*obs.Prec[idx:idy].resample('10min','sum'))], axis = 1)"
     ],
     "language": "python",
     "metadata": {},
     "outputs": [],
     "prompt_number": 33
    },
    {
     "cell_type": "code",
     "collapsed": false,
     "input": [
      "if ad_diff:\n",
      "    mlab=['particle 0.03 m','particle_diff 0.03 m','richards_euler 0.03 m','richards_simPEG 0.03 m','obs 0.03 m']\n",
      "    mlabcols=['part1','partdiff1','richE1','richS1','obs1']\n",
      "    hydroplot(TSobsx*100.,mlab,mlabcols,(10,6),catch='Weiherbach in 0.03 m',align=False,tspacehr=1,saving='./results/1D_moistdyn_obs.pdf')\n",
      "else:\n",
      "    mlab=['observation','particle','richards_euler','richards_simPEG']\n",
      "    mlabcols=['obs1','part1','richE1','richS1']\n",
      "hydroplot(TSobsx*100.,mlab,mlabcols,(10,6),catch='Weiherbach in 0.03 m',align=False,tspacehr=1,ccontrast=True,saving='./results/1D_moistdyn_obs.pdf',descriptor='Model')"
     ],
     "language": "python",
     "metadata": {},
     "outputs": [
      {
       "metadata": {},
       "output_type": "display_data",
       "png": "[encoded data removed]",
       "text": [
        "<matplotlib.figure.Figure at 0x10bc6cb90>"
       ]
      }
     ],
     "prompt_number": 34
    },
    {
     "cell_type": "code",
     "collapsed": false,
     "input": [
      "reftime+pd.datetools.timedelta(minutes=209)"
     ],
     "language": "python",
     "metadata": {},
     "outputs": [
      {
       "metadata": {},
       "output_type": "pyout",
       "prompt_number": 53,
       "text": [
        "Timestamp('1994-06-28 01:04:00', tz=None)"
       ]
      }
     ],
     "prompt_number": 53
    },
    {
     "cell_type": "code",
     "collapsed": false,
     "input": [
      "oneDplotX(particles,obsx,theta_r,theta_re,output,1,runname,timenow,i,mc,False,output*i/60.,False,(3.5,6),[0.15,0.32,0.05],True)\n"
     ],
     "language": "python",
     "metadata": {},
     "outputs": [
      {
       "metadata": {},
       "output_type": "display_data",
       "png": "[encoded data removed]",
       "text": [
        "<matplotlib.figure.Figure at 0x1235e7f90>"
       ]
      }
     ],
     "prompt_number": 36
    },
    {
     "cell_type": "code",
     "collapsed": false,
     "input": [
      "TSobsx.to_pickle('./results/sim_obs_1D.pickle')\n",
      "#pd.read_pickle('./results/sim_obs_1D.pickle')"
     ],
     "language": "python",
     "metadata": {},
     "outputs": [],
     "prompt_number": 54
    },
    {
     "cell_type": "code",
     "collapsed": false,
     "input": [],
     "language": "python",
     "metadata": {},
     "outputs": [],
     "prompt_number": 55
    },
    {
     "cell_type": "code",
     "collapsed": false,
     "input": [],
     "language": "python",
     "metadata": {},
     "outputs": []
    },
    {
     "cell_type": "code",
     "collapsed": false,
     "input": [
      "mlab=['observation','particle','richards_euler','richards_simPEG']\n",
      "mlabcols=['obs2','part2','richE2','richS2']\n",
      "hydroplot(TSobsx*100.,mlab,mlabcols,(10,6),catch='Weiherbach in 0.1 m',align=False,tspacehr=1,ccontrast=True,saving='./results/1D_moistdyn_obs_10.pdf',descriptor='Model')"
     ],
     "language": "python",
     "metadata": {},
     "outputs": [
      {
       "metadata": {},
       "output_type": "display_data",
       "png": "[encoded data removed]",
       "text": [
        "<matplotlib.figure.Figure at 0x10dfcfd50>"
       ]
      }
     ],
     "prompt_number": 32
    },
    {
     "cell_type": "code",
     "collapsed": false,
     "input": [
      "oneDplot(particles,obsx,theta_r,theta_re,output,1,runname,timenow,i,mc,False,output*i/60.,False,(7,6),[0.15,0.32,0.05])"
     ],
     "language": "python",
     "metadata": {},
     "outputs": [
      {
       "metadata": {},
       "output_type": "display_data",
       "png": "[encoded data removed]",
       "text": [
        "<matplotlib.figure.Figure at 0x10acd6d10>"
       ]
      }
     ],
     "prompt_number": 33
    },
    {
     "cell_type": "code",
     "collapsed": false,
     "input": [
      "def oneDplotX(particles,obsx,theta_r,theta_re,dt,sigma,runname,ti,i,mc,saving=False,t=1,store=False,fsize=(8, 5),xlimset=[0.15,0.3,2],leg=False,ad_diff=False,relative=False):\n",
      "    #plot 1D profile\n",
      "    import matplotlib.gridspec as gridspec\n",
      "    from scipy.ndimage.filters import gaussian_filter1d\n",
      "    \n",
      "    # These are the \"Tableau 20\" colors as RGB.  \n",
      "    tableau20 = [(31, 119, 180), (174, 199, 232), (255, 127, 14), (255, 187, 120),  \n",
      "             (44, 160, 44), (152, 223, 138), (214, 39, 40), (255, 152, 150),  \n",
      "             (148, 103, 189), (197, 176, 213), (140, 86, 75), (196, 156, 148),  \n",
      "             (227, 119, 194), (247, 182, 210), (127, 127, 127), (199, 199, 199),  \n",
      "             (188, 189, 34), (219, 219, 141), (23, 190, 207), (158, 218, 229)]  \n",
      "    # Scale the RGB values to the [0, 1] range, which is the format matplotlib accepts.  \n",
      "    for k in range(len(tableau20)):  \n",
      "        r, g, b = tableau20[k]  \n",
      "        tableau20[k] = (r / 255., g / 255., b / 255.)  \n",
      "    \n",
      "    [thS,npart]=gridupdate_thS1D(particles.cell,mc,pdyn)\n",
      "    theta_p=vG.theta_thst(thS/100., mc.soilmatrix.ts[mc.soilgrid[:,1]-1], mc.soilmatrix.tr[mc.soilgrid[:,1]-1])\n",
      "    thpx=gaussian_filter1d(theta_p,sigma)\n",
      "    if ad_diff:\n",
      "        [thSdiff,npartdiff]=gridupdate_thS1D(particles.cell[particles.flag==0],mc,pdyn)\n",
      "        theta_pdiff=vG.theta_thst(thSdiff/100., mc.soilmatrix.ts[mc.soilgrid[:,1]-1], mc.soilmatrix.tr[mc.soilgrid[:,1]-1])\n",
      "        thpxdiff=gaussian_filter1d(theta_pdiff,sigma)\n",
      "    n=len(particles)\n",
      "    obs_id=np.argmin([np.abs(obsx.index[x]-ti) for x in range(len(obsx))])\n",
      "    probloc=[-0.03,-0.1,-0.2,-0.3,-0.4]\n",
      "    \n",
      "    fig=plt.figure(figsize=fsize)\n",
      "    gs = gridspec.GridSpec(1, 2, width_ratios=[4,1])\n",
      "    \n",
      "    #marginal Y\n",
      "    ax1=fig.add_subplot(gs[1])\n",
      "    zi=np.arange(-0.0,mc.soildepth-0.01,-0.01)\n",
      "    oldp=np.bincount(np.round(np.append(-particles.z[particles.flag==0].values,-zi)*100.).astype(int))-1\n",
      "    allp=np.bincount(np.round(np.append(-particles.z[particles.flag<2].values,-zi)*100.).astype(int))-1\n",
      "    if relative:\n",
      "        oldp/=np.sum(oldp)\n",
      "        allp/=np.sum(allp)\n",
      "    advect_dummy=gaussian_filter1d(allp[0:len(oldp)]-oldp,sigma)\n",
      "    old_dummy=gaussian_filter1d(oldp,sigma)\n",
      "    all_dummy=gaussian_filter1d(allp[0:len(oldp)],sigma)\n",
      "    ax1.fill_betweenx(zi,0.,all_dummy, color='b',alpha=0.15)\n",
      "    ax1.fill_betweenx(zi,0.,old_dummy, color='g',alpha=0.15)\n",
      "    ax1.fill_betweenx(zi,0.,advect_dummy, color='r',alpha=0.3)\n",
      "    ax1.plot(advect_dummy,zi,'r-',label='new particles')\n",
      "    ax1.plot(all_dummy,zi,'b-',label='all particles')\n",
      "    ax1.plot(old_dummy,zi,'g-',label='old particles')\n",
      "    \n",
      "    handles1, labels1 = ax1.get_legend_handles_labels() \n",
      "    ax1.set_ylim((-1.,0.))\n",
      "    ax1.set_yticks([])\n",
      "    ax1.set_xticks([])\n",
      "    ax1.spines[\"bottom\"].set_visible(False)  \n",
      "    ax1.spines[\"right\"].set_visible(False)  \n",
      "    ax1.spines[\"top\"].set_visible(False)  \n",
      "    ax1.spines[\"left\"].set_visible(False)\n",
      "    \n",
      "    #main plot\n",
      "    ax1=fig.add_subplot(gs[0])\n",
      "    ax1.plot(thpx,mc.zgrid[:,1],color=tableau20[0],lw=2,label='Particle')\n",
      "    if ad_diff:\n",
      "        ax1.plot(thpxdiff,mc.zgrid[:,1],'--',color=tableau20[1],lw=2,label='Particle_diffusive')\n",
      "    ax1.plot(theta_r,mc.zgrid[:,1],color=tableau20[2],lw=2,label='Rich SimpegFlow')\n",
      "    ax1.plot(theta_re,mc.zgrid[:,1],color=tableau20[4],lw=2,label='Rich Euler')\n",
      "    ax1.plot(obsx.iloc[obs_id]/100.,probloc,'o',color=tableau20[8],label='Observation')\n",
      "    \n",
      "    ax1.set_xlim(xlimset[:2])\n",
      "    ax1.set_xticks(np.arange(xlimset[0],xlimset[1],xlimset[2]))\n",
      "    ax1.set_xticklabels(np.arange(xlimset[0],xlimset[1],xlimset[2]),fontsize=14)\n",
      "    ax1.set_yticklabels([-1.0,'',-0.6,-0.4,-0.2,0.0],fontsize=14)\n",
      "    ax1.text(0.12,-0.75,'depth [m]',rotation='vertical',fontsize=14)\n",
      "    if leg:\n",
      "        ax1.legend(loc=4,frameon=False)\n",
      "    ax1.set_xlabel('theta [m3/m3]',fontsize=14)\n",
      "    ax1.text(0.17,-0.95,''.join([str(int(ti)),'min']),fontsize=19)\n",
      "        \n",
      "    if saving:\n",
      "        plt.savefig(''.join(['./results/',runname,str(i).zfill(3),'.pdf']))\n",
      "        plt.close(fig)\n",
      "        "
     ],
     "language": "python",
     "metadata": {},
     "outputs": [],
     "prompt_number": 70
    },
    {
     "cell_type": "code",
     "collapsed": false,
     "input": [
      "oneDplotX(particles,obsx,theta_r,theta_re,output,1,runname,25,25,mc,False,output*i/60.,False,(3,6),[0.15,0.32,0.05],False)\n"
     ],
     "language": "python",
     "metadata": {},
     "outputs": [
      {
       "metadata": {},
       "output_type": "display_data",
       "png": "[encoded data removed]",
       "text": [
        "<matplotlib.figure.Figure at 0x10cb87950>"
       ]
      }
     ],
     "prompt_number": 71
    },
    {
     "cell_type": "code",
     "collapsed": false,
     "input": [
      "storedummy"
     ],
     "language": "python",
     "metadata": {},
     "outputs": [
      {
       "metadata": {},
       "output_type": "pyout",
       "prompt_number": 72,
       "text": [
        "[array([ 0.2148    ,  0.2091    ,  0.1843    ,  0.22190001,  0.271     ]),\n",
        " array([ 0.22035767,  0.19646511,  0.20942784,  0.23684103,  0.25954111]),\n",
        " array([ 0.23437651,  0.19088129,  0.19605309,  0.23930119,  0.26673316]),\n",
        " array([ 0.23350017,  0.18732425,  0.1946865 ,  0.2387384 ,  0.26897221])]"
       ]
      }
     ],
     "prompt_number": 72
    },
    {
     "cell_type": "code",
     "collapsed": false,
     "input": [
      "particles[particles.flag==1].groupby(['cell'],sort=True).max().lastZ-particles[particles.flag==1].groupby(['cell'],sort=True).min().z\n",
      "#a=(np.abs(mc.mgrid.vertfac.values)*np.abs(particles.groupby(['cell'], sort=True).mean().lastZ.values-particles.groupby(['cell'], sort=True).mean().z.values)/dt)/mc.D[np.amax(thS),4]"
     ],
     "language": "python",
     "metadata": {},
     "outputs": [
      {
       "metadata": {},
       "output_type": "pyout",
       "prompt_number": 37,
       "text": [
        "cell\n",
        "0       0.009640\n",
        "1       0.013324\n",
        "2       0.015622\n",
        "3       0.011244\n",
        "4       0.011375\n",
        "5       0.010972\n",
        "6       0.014693\n",
        "7       0.012521\n",
        "9       0.004116\n",
        "15      0.005836\n",
        "dtype: float64"
       ]
      }
     ],
     "prompt_number": 37
    },
    {
     "cell_type": "code",
     "collapsed": false,
     "input": [
      "particles[particles.flag==0].groupby(['cell'],sort=True).max().lastZ-particles[particles.flag==0].groupby(['cell'],sort=True).min().z"
     ],
     "language": "python",
     "metadata": {},
     "outputs": [
      {
       "metadata": {},
       "output_type": "pyout",
       "prompt_number": 38,
       "text": [
        "cell\n",
        "0       0.009980\n",
        "1       0.013223\n",
        "2       0.011880\n",
        "3       0.011180\n",
        "4       0.010126\n",
        "5       0.011341\n",
        "6       0.012212\n",
        "7       0.010721\n",
        "8       0.011236\n",
        "9       0.010386\n",
        "10      0.010363\n",
        "11      0.010052\n",
        "12      0.010571\n",
        "13      0.010554\n",
        "14      0.010440\n",
        "...\n",
        "85      0.013125\n",
        "86      0.013363\n",
        "87      0.014164\n",
        "88      0.015324\n",
        "89      0.014533\n",
        "90      0.014119\n",
        "91      0.012914\n",
        "92      0.013978\n",
        "93      0.015982\n",
        "94      0.013789\n",
        "95      0.014923\n",
        "96      0.014365\n",
        "97      0.016397\n",
        "98      0.012150\n",
        "99      0.015517\n",
        "Length: 100, dtype: float64"
       ]
      }
     ],
     "prompt_number": 38
    },
    {
     "cell_type": "code",
     "collapsed": false,
     "input": [
      "[particles,npart,thS,leftover,drained,timenow,infiltp] = CAOSpy_run1D_adv(particles,npart,thS,leftover,drained,i*output,(i+1)*output,precTSx,mc,pdyn,cinf)\n",
      "a=particles.groupby(['cell'], sort=True).mean().lastZ.values-particles.groupby(['cell'], sort=True).mean().z.values/(mc.D[np.amax(thS),4]*output)\n",
      "plot(a)"
     ],
     "language": "python",
     "metadata": {},
     "outputs": [
      {
       "metadata": {},
       "output_type": "pyout",
       "prompt_number": 38,
       "text": [
        "[<matplotlib.lines.Line2D at 0x11c9e2b90>]"
       ]
      },
      {
       "metadata": {},
       "output_type": "display_data",
       "png": "[encoded data removed]",
       "text": [
        "<matplotlib.figure.Figure at 0x110e81290>"
       ]
      }
     ],
     "prompt_number": 38
    },
    {
     "cell_type": "code",
     "collapsed": false,
     "input": [
      "plot((np.abs(particles.groupby(['cell'], sort=True).mean().lastZ.values-particles.groupby(['cell'], sort=True).mean().z.values)/output)/np.sqrt(mc.D[np.amax(thS),4]))"
     ],
     "language": "python",
     "metadata": {},
     "outputs": [
      {
       "metadata": {},
       "output_type": "pyout",
       "prompt_number": 47,
       "text": [
        "[<matplotlib.lines.Line2D at 0x11ca982d0>]"
       ]
      },
      {
       "metadata": {},
       "output_type": "display_data",
       "png": "[encoded data removed]",
       "text": [
        "<matplotlib.figure.Figure at 0x11ca3f810>"
       ]
      }
     ],
     "prompt_number": 47
    },
    {
     "cell_type": "code",
     "collapsed": false,
     "input": [
      "particles.groupby(['cell'], sort=True).mean().z.values"
     ],
     "language": "python",
     "metadata": {},
     "outputs": [
      {
       "metadata": {},
       "output_type": "pyout",
       "prompt_number": 41,
       "text": [
        "array([-0.00450399, -0.0151594 , -0.02515685, -0.03486362, -0.04461867,\n",
        "       -0.05491036, -0.06529372, -0.07529147, -0.08475064, -0.09467882,\n",
        "       -0.10486326, -0.11497121, -0.12539881, -0.13517839, -0.14523248,\n",
        "       -0.15558796, -0.16473286, -0.17514751, -0.18478706, -0.19462522,\n",
        "       -0.20485402, -0.21509863, -0.22519642, -0.23539776, -0.2455014 ,\n",
        "       -0.25527322, -0.26517372, -0.27486351, -0.28546881, -0.29494367,\n",
        "       -0.30533841, -0.31513767, -0.32491122, -0.33532814, -0.34524254,\n",
        "       -0.35520214, -0.36466027, -0.37526471, -0.38497555, -0.39498403,\n",
        "       -0.404786  , -0.41498747, -0.42461652, -0.43492078, -0.44506397,\n",
        "       -0.45525702, -0.46512369, -0.47456069, -0.48469525, -0.49474674,\n",
        "       -0.50511214, -0.51490127, -0.52475573, -0.53547307, -0.54462611,\n",
        "       -0.55509811, -0.56459305, -0.57512361, -0.58497776, -0.59477264,\n",
        "       -0.60494095, -0.61472792, -0.62504806, -0.63448592, -0.64503363,\n",
        "       -0.65495194, -0.66498004, -0.67475718, -0.68494187, -0.69550474,\n",
        "       -0.70520211, -0.71501641, -0.72480473, -0.73508567, -0.74533345,\n",
        "       -0.75521311, -0.76540725, -0.77516132, -0.78440863, -0.79530582,\n",
        "       -0.80470673, -0.81507372, -0.82499047, -0.83499122, -0.84485522,\n",
        "       -0.85481359, -0.86519577, -0.87496214, -0.88489384, -0.89476222,\n",
        "       -0.90462423, -0.91492597, -0.9252293 , -0.93492182, -0.94513168,\n",
        "       -0.95513165, -0.96493623, -0.97483887, -0.9852286 , -0.99538304])"
       ]
      }
     ],
     "prompt_number": 41
    },
    {
     "cell_type": "code",
     "collapsed": false,
     "input": [
      "plot(TSobsx.part1)\n",
      "plot(TSobsx.partdiff1,'.')"
     ],
     "language": "python",
     "metadata": {},
     "outputs": [
      {
       "metadata": {},
       "output_type": "pyout",
       "prompt_number": 37,
       "text": [
        "[<matplotlib.lines.Line2D at 0x13e87bf50>]"
       ]
      },
      {
       "metadata": {},
       "output_type": "display_data",
       "png": "[encoded data removed]",
       "text": [
        "<matplotlib.figure.Figure at 0x13e87b4d0>"
       ]
      }
     ],
     "prompt_number": 37
    },
    {
     "cell_type": "code",
     "collapsed": false,
     "input": [
      "figure(figsize=(16,5))\n",
      "plt.subplot(121)\n",
      "plot(TSstore[['obs1','part1','richE1','richS1']])\n",
      "title('0.03 m')\n",
      "plt.subplot(122)\n",
      "plot(TSstore[['obs2','part2','richE2','richS2']])\n",
      "title('0.1 m')\n"
     ],
     "language": "python",
     "metadata": {},
     "outputs": [
      {
       "metadata": {},
       "output_type": "pyout",
       "prompt_number": 34,
       "text": [
        "<matplotlib.text.Text at 0x10fcd5b90>"
       ]
      },
      {
       "metadata": {},
       "output_type": "display_data",
       "png": "[encoded data removed]",
       "text": [
        "<matplotlib.figure.Figure at 0x11d2a75d0>"
       ]
      }
     ],
     "prompt_number": 34
    },
    {
     "cell_type": "code",
     "collapsed": false,
     "input": [
      "def hydroplot2(obs,mlab,mlabcols,fsize=(6, 6),saving=False,upbound=40,lowbound=10,catch='Catchment',prec=True,precscale=100.,cumprec=False):\n",
      "    '''\n",
      "    This is a rather simple function to plot hydrological data (soil moisture and precipitation) of a pandas data frame.\n",
      "    It is based on some excellent examples by Randy Olson and may need heavy adaption to your data.\n",
      "    (CC BY-NC-SA 4.0) jackisch@kit.edu\n",
      "    \n",
      "    fsize: Provide figure size as tuple.\n",
      "    saving: Provide a file name if you want it saving.\n",
      "    XXbound: Give bounds of left axis.\n",
      "    catch: Provide catchment name.\n",
      "    precscale: Scaling if your prec data is not in mm.\n",
      "    cumprec: True: cumulative precipitation is plotted.\n",
      "    \n",
      "    The functions assumes a pandas data frame with a time stamp as row names.\n",
      "    You may prepare this as:\n",
      "    obs=pd.read_csv('soil_moisture_file.csv')\n",
      "    obs.index=pd.to_datetime(obs['DATE'] + ' ' + obs['TIME'],format='%d/%m/%y %H:%M')\n",
      "    obs = obs.drop(['DATE','TIME'], 1)\n",
      "    Moreover, precipitation should reside in column 'Prec'\n",
      "    '''\n",
      "    \n",
      "    # These are the \"Tableau 20\" colors as RGB.  \n",
      "    tableau20 = [(31, 119, 180), (174, 199, 232), (255, 127, 14), (255, 187, 120),  \n",
      "             (44, 160, 44), (152, 223, 138), (214, 39, 40), (255, 152, 150),  \n",
      "             (148, 103, 189), (197, 176, 213), (140, 86, 75), (196, 156, 148),  \n",
      "             (227, 119, 194), (247, 182, 210), (127, 127, 127), (199, 199, 199),  \n",
      "             (188, 189, 34), (219, 219, 141), (23, 190, 207), (158, 218, 229)] \n",
      "    tableau10 = tableau20[::2] \n",
      "    # Scale the RGB values to the [0, 1] range, which is the format matplotlib accepts.  \n",
      "    for i in range(len(tableau10)):  \n",
      "        r, g, b = tableau10[i]  \n",
      "        tableau10[i] = (r / 255., g / 255., b / 255.)  \n",
      "        \n",
      "    \n",
      "    figure(figsize=fsize)  \n",
      "      \n",
      "    # Remove the plot frame lines. They are unnecessary chartjunk.  \n",
      "    ax = subplot(111)  \n",
      "    ax.spines[\"top\"].set_visible(False)  \n",
      "    ax.spines[\"bottom\"].set_visible(False)  \n",
      "    ax.spines[\"right\"].set_visible(False)  \n",
      "    ax.spines[\"left\"].set_visible(False)  \n",
      "      \n",
      "    # Ensure that the axis ticks only show up on the bottom and left of the plot.  \n",
      "    # Ticks on the right and top of the plot are generally unnecessary chartjunk.  \n",
      "    ax.get_xaxis().tick_bottom()  \n",
      "    ax.get_yaxis().tick_left()  \n",
      "      \n",
      "    # Limit the range of the plot to only where the data is.  \n",
      "    # Avoid unnecessary whitespace.  \n",
      "    ylim(lowbound, upbound)  \n",
      "    \n",
      "          \n",
      "    # Make sure your axis ticks are large enough to be easily read.  \n",
      "    # You don't want your viewers squinting to read your plot.  \n",
      "    yticks(np.arange(np.floor(lowbound*10.)/10., np.ceil(upbound*10.)/10., 0.1), [str(x) + \"%\" for x in np.arange(np.floor(lowbound*10.)/10., np.ceil(upbound*10.)/10., 0.1)], fontsize=14)  \n",
      "    xticks(fontsize=14)  \n",
      "    \n",
      "    ax.xaxis.set_minor_locator(matplotlib.dates.HourLocator(interval=1))\n",
      "    ax.xaxis.set_minor_formatter(matplotlib.dates.DateFormatter('\\n%H'))\n",
      "    ax.xaxis.grid(False, which=\"minor\")\n",
      "    ax.xaxis.grid(True, which=\"major\")\n",
      "    ax.xaxis.set_major_locator(matplotlib.dates.DayLocator())\n",
      "    ax.xaxis.set_major_formatter(matplotlib.dates.DateFormatter('\\n\\n%d.%m.%y'))\n",
      "    \n",
      "    # Now that the plot is prepared, it's time to actually plot the data!  \n",
      "    # Note that I plotted the majors in order of the highest % in the final year.  \n",
      "    majors = mlab  \n",
      "    colnames=mlabcols\n",
      "    \n",
      "    #get positions\n",
      "    yposlab=obs[colnames].values[-1,:]\n",
      "    yposlab=np.round(yposlab,decimals=2)\n",
      "    if any(np.diff(yposlab)==0.):\n",
      "        yposlab=upbound-(np.arange(len(yposlab))+2.)/100.\n",
      "    \n",
      "    for rank, column in enumerate(majors):  \n",
      "        # Plot each line separately with its own color, using the Tableau 20  \n",
      "        # color set in order.  \n",
      "        plot(obs.index, obs[colnames[rank]].values, lw=2.5, color=tableau10[rank])  \n",
      "    \n",
      "        # Add a text label to the right end of every line. Most of the code below  \n",
      "        # is adding specific offsets y position because some labels overlapped.  \n",
      "        text(obs.index[-1]+ datetime.timedelta(hours=1), yposlab[rank], column, fontsize=14,     color=tableau10[rank])\n",
      "        \n",
      "    for y in np.arange(np.floor(lowbound*10.)/10., np.ceil(upbound*10.)/10., 0.1):  \n",
      "        axhline(y, lw=0.5, color=\"black\", alpha=0.3)\n",
      "    \n",
      "    if saving!=False:\n",
      "        savefig(saving, bbox_inches=\"tight\")"
     ],
     "language": "python",
     "metadata": {},
     "outputs": [],
     "prompt_number": 97
    },
    {
     "cell_type": "code",
     "collapsed": false,
     "input": [],
     "language": "python",
     "metadata": {},
     "outputs": [],
     "prompt_number": 97
    },
    {
     "cell_type": "code",
     "collapsed": false,
     "input": [
      "#mlab=['obs 0.03 m','obs 0.1 m','particle 0.03 m','particle 0.1 m','richards_euler 0.03 m','richards_euler 0.1 m','richards_simPEG 0.03 m','richards_simPEG 0.1m']\n",
      "#mlabcols=['obs1','obs2','part1','part2','richE1','richE2','richS1','richS2']\n",
      "mlab=['obs 0.03 m','particle 0.03 m','richards_euler 0.03 m','richards_simPEG 0.03 m']\n",
      "mlabcols=['obs1','part1','richE1','richS1']\n",
      "hydroplot2(TSstore,mlab,mlabcols,(10,6),catch='Weiherbach in 0.03 m',prec=False,upbound=0.31,lowbound=0.2)"
     ],
     "language": "python",
     "metadata": {},
     "outputs": [
      {
       "metadata": {},
       "output_type": "display_data",
       "png": "[encoded data removed]",
       "text": [
        "<matplotlib.figure.Figure at 0x12ec09490>"
       ]
      }
     ],
     "prompt_number": 100
    },
    {
     "cell_type": "code",
     "collapsed": false,
     "input": [
      "mlab=['obs 0.1 m','particle 0.1 m','richards_euler 0.1 m','richards_simPEG 0.1 m']\n",
      "mlabcols=['obs2','part2','richE2','richS2']\n",
      "hydroplot2(TSstore,mlab,mlabcols,(10,6),catch='Weiherbach in 0.1 m',prec=False,upbound=0.25,lowbound=0.15)"
     ],
     "language": "python",
     "metadata": {},
     "outputs": [
      {
       "metadata": {},
       "output_type": "display_data",
       "png": "[encoded data removed]",
       "text": [
        "<matplotlib.figure.Figure at 0x12f363b10>"
       ]
      }
     ],
     "prompt_number": 101
    },
    {
     "cell_type": "code",
     "collapsed": false,
     "input": [
      "mlab=['obs 0.2 m','particle 0.2 m','richards_euler 0.2 m','richards_simPEG 0.2 m']\n",
      "mlabcols=['obs3','part3','richE3','richS3']\n",
      "hydroplot2(TSstore,mlab,mlabcols,(10,6),catch='Weiherbach in 0.2 m',prec=False,upbound=0.25,lowbound=0.15)"
     ],
     "language": "python",
     "metadata": {},
     "outputs": [
      {
       "metadata": {},
       "output_type": "display_data",
       "png": "[encoded data removed]",
       "text": [
        "<matplotlib.figure.Figure at 0x12ec19610>"
       ]
      }
     ],
     "prompt_number": 102
    },
    {
     "cell_type": "code",
     "collapsed": false,
     "input": [
      "mlab=['obs 0.1 m','particle 0.1 m','richards_euler 0.1 m','richards_simPEG 0.1 m']\n",
      "mlabcols=['obs2','part2','richE2','richS2']\n",
      "hydroplot(TSobsx*100.,mlab,mlabcols,(10,6),catch='Weiherbach in 0.1 m',align=False,tspacehr=1,ccontrast=True)"
     ],
     "language": "python",
     "metadata": {},
     "outputs": [
      {
       "metadata": {},
       "output_type": "display_data",
       "png": "[encoded data removed]",
       "text": [
        "<matplotlib.figure.Figure at 0x102902d10>"
       ]
      }
     ],
     "prompt_number": 183
    },
    {
     "cell_type": "code",
     "collapsed": false,
     "input": [],
     "language": "python",
     "metadata": {},
     "outputs": []
    }
   ],
   "metadata": {}
  }
 ]
}